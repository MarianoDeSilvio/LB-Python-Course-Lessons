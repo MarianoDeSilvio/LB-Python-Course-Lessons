{
  "nbformat": 4,
  "nbformat_minor": 0,
  "metadata": {
    "colab": {
      "provenance": []
    },
    "kernelspec": {
      "name": "python3",
      "display_name": "Python 3"
    },
    "language_info": {
      "name": "python"
    }
  },
  "cells": [
    {
      "cell_type": "code",
      "execution_count": null,
      "metadata": {
        "colab": {
          "base_uri": "https://localhost:8080/"
        },
        "id": "FrlLj1VI0uRe",
        "outputId": "75861c8c-731a-4a40-c69e-ff5a19d5964d"
      },
      "outputs": [
        {
          "output_type": "execute_result",
          "data": {
            "text/plain": [
              "<function __main__.<lambda>(x)>"
            ]
          },
          "metadata": {},
          "execution_count": 1
        }
      ],
      "source": [
        "lambda x: x^2"
      ]
    },
    {
      "cell_type": "code",
      "source": [
        "square_it = lambda x: x**2"
      ],
      "metadata": {
        "id": "wAqLktP43Iw-"
      },
      "execution_count": null,
      "outputs": []
    },
    {
      "cell_type": "code",
      "source": [
        "square_it(9)"
      ],
      "metadata": {
        "colab": {
          "base_uri": "https://localhost:8080/"
        },
        "id": "b3N7MVDI3SCU",
        "outputId": "53ed1694-e1c2-4c8d-989e-9a59eb30c06b"
      },
      "execution_count": null,
      "outputs": [
        {
          "output_type": "execute_result",
          "data": {
            "text/plain": [
              "81"
            ]
          },
          "metadata": {},
          "execution_count": 5
        }
      ]
    },
    {
      "cell_type": "code",
      "source": [
        "(lambda x, y : x**2 + y**2) (3,2)"
      ],
      "metadata": {
        "colab": {
          "base_uri": "https://localhost:8080/"
        },
        "id": "Xm1Kt19E4IdA",
        "outputId": "81c234d9-b0bb-4420-884e-099a2184db28"
      },
      "execution_count": null,
      "outputs": [
        {
          "output_type": "execute_result",
          "data": {
            "text/plain": [
              "13"
            ]
          },
          "metadata": {},
          "execution_count": 6
        }
      ]
    },
    {
      "cell_type": "code",
      "source": [
        "salary_list = [100_000, 200_000, 150_000, 120_000, 80_000, 750_000]"
      ],
      "metadata": {
        "id": "JcKALEVe463k"
      },
      "execution_count": null,
      "outputs": []
    },
    {
      "cell_type": "code",
      "source": [
        "def calculate_salary (base_salary, bonus_rate = .1):\n",
        "  return base_salary * (1 + bonus_rate)"
      ],
      "metadata": {
        "id": "WGtJ1Be45JcL"
      },
      "execution_count": null,
      "outputs": []
    },
    {
      "cell_type": "code",
      "source": [
        "total_salary_list = [calculate_salary(salary) for salary in salary_list]\n",
        "total_salary_list"
      ],
      "metadata": {
        "colab": {
          "base_uri": "https://localhost:8080/"
        },
        "id": "_a9skBGV5bFJ",
        "outputId": "648da526-52d9-4f4b-a643-6e58cb436d5c"
      },
      "execution_count": null,
      "outputs": [
        {
          "output_type": "execute_result",
          "data": {
            "text/plain": [
              "[110000.00000000001,\n",
              " 220000.00000000003,\n",
              " 165000.0,\n",
              " 132000.0,\n",
              " 88000.0,\n",
              " 825000.0000000001]"
            ]
          },
          "metadata": {},
          "execution_count": 10
        }
      ]
    },
    {
      "cell_type": "code",
      "source": [
        "total_salary_list = [(lambda x: x*1.1) (salary) for salary in salary_list]\n",
        "total_salary_list"
      ],
      "metadata": {
        "colab": {
          "base_uri": "https://localhost:8080/"
        },
        "id": "XGtPGFPM63RO",
        "outputId": "30866ce2-59f5-4ff4-ec11-cbb069385aa2"
      },
      "execution_count": null,
      "outputs": [
        {
          "output_type": "execute_result",
          "data": {
            "text/plain": [
              "[110000.00000000001,\n",
              " 220000.00000000003,\n",
              " 165000.0,\n",
              " 132000.0,\n",
              " 88000.0,\n",
              " 825000.0000000001]"
            ]
          },
          "metadata": {},
          "execution_count": 11
        }
      ]
    },
    {
      "cell_type": "code",
      "source": [
        "total_salary_list = [salary*1.1 for salary in salary_list]\n",
        "total_salary_list"
      ],
      "metadata": {
        "colab": {
          "base_uri": "https://localhost:8080/"
        },
        "id": "2-A8FEhp7bT6",
        "outputId": "d8c95e06-a3f7-453f-dbc0-4efdba4ec666"
      },
      "execution_count": null,
      "outputs": [
        {
          "output_type": "execute_result",
          "data": {
            "text/plain": [
              "[110000.00000000001,\n",
              " 220000.00000000003,\n",
              " 165000.0,\n",
              " 132000.0,\n",
              " 88000.0,\n",
              " 825000.0000000001]"
            ]
          },
          "metadata": {},
          "execution_count": 12
        }
      ]
    },
    {
      "cell_type": "code",
      "source": [
        "job_titles = [\n",
        "    {\n",
        "        \"job_title\": \"Data Analyst\",\n",
        "        \"job_skills\": [\"Python\", \"Excel\", \"SQL\"],\n",
        "        \"remote\": True\n",
        "    },\n",
        "    {\n",
        "        \"job_title\": \"Data Scientist\",\n",
        "        \"job_skills\": [\"Python\", \"Machine Learning\", \"Statistics\", \"SQL\"],\n",
        "        \"remote\": False\n",
        "    },\n",
        "    {\n",
        "        \"job_title\": \"Software Engineer\",\n",
        "        \"job_skills\": [\"Java\", \"Git\", \"Algorithms\", \"Databases\"],\n",
        "        \"remote\": True\n",
        "    },\n",
        "    {\n",
        "        \"job_title\": \"Business Analyst\",\n",
        "        \"job_skills\": [\"Excel\", \"Power BI\", \"Communication\", \"SQL\"],\n",
        "        \"remote\": False\n",
        "    },\n",
        "    {\n",
        "        \"job_title\": \"DevOps Engineer\",\n",
        "        \"job_skills\": [\"AWS\", \"Docker\", \"Kubernetes\", \"Python\"],\n",
        "        \"remote\": True\n",
        "    },\n",
        "    {\n",
        "        \"job_title\": \"UX Designer\",\n",
        "        \"job_skills\": [\"Figma\", \"Wireframing\", \"User Research\", \"Prototyping\"],\n",
        "        \"remote\": False\n",
        "    }\n",
        "]"
      ],
      "metadata": {
        "id": "PIYbxwxG8sfP"
      },
      "execution_count": null,
      "outputs": []
    },
    {
      "cell_type": "code",
      "source": [
        "list(filter(lambda job: job[\"remote\"], job_titles))"
      ],
      "metadata": {
        "colab": {
          "base_uri": "https://localhost:8080/"
        },
        "id": "RLvUcqrW-qxH",
        "outputId": "5c77fb5b-4533-41c3-dbf0-1314381b1de3"
      },
      "execution_count": null,
      "outputs": [
        {
          "output_type": "execute_result",
          "data": {
            "text/plain": [
              "[{'job_title': 'Data Analyst',\n",
              "  'job_skills': ['Python', 'Excel', 'SQL'],\n",
              "  'remote': True},\n",
              " {'job_title': 'Software Engineer',\n",
              "  'job_skills': ['Java', 'Git', 'Algorithms', 'Databases'],\n",
              "  'remote': True},\n",
              " {'job_title': 'DevOps Engineer',\n",
              "  'job_skills': ['AWS', 'Docker', 'Kubernetes', 'Python'],\n",
              "  'remote': True}]"
            ]
          },
          "metadata": {},
          "execution_count": 14
        }
      ]
    },
    {
      "cell_type": "code",
      "source": [
        "list(filter(lambda job: job[\"remote\"] == False, job_titles))"
      ],
      "metadata": {
        "colab": {
          "base_uri": "https://localhost:8080/"
        },
        "id": "Qt0VjCWq-2ih",
        "outputId": "878fdca2-6e6b-4a3e-db61-7073717cc44b"
      },
      "execution_count": null,
      "outputs": [
        {
          "output_type": "execute_result",
          "data": {
            "text/plain": [
              "[{'job_title': 'Data Scientist',\n",
              "  'job_skills': ['Python', 'Machine Learning', 'Statistics', 'SQL'],\n",
              "  'remote': False},\n",
              " {'job_title': 'Business Analyst',\n",
              "  'job_skills': ['Excel', 'Power BI', 'Communication', 'SQL'],\n",
              "  'remote': False},\n",
              " {'job_title': 'UX Designer',\n",
              "  'job_skills': ['Figma', 'Wireframing', 'User Research', 'Prototyping'],\n",
              "  'remote': False}]"
            ]
          },
          "metadata": {},
          "execution_count": 15
        }
      ]
    },
    {
      "cell_type": "code",
      "source": [
        "list(filter(lambda job: job[\"remote\"] and \"Python\" in job[\"job_skills\"], job_titles))"
      ],
      "metadata": {
        "colab": {
          "base_uri": "https://localhost:8080/"
        },
        "id": "W8BUfvOp_9A9",
        "outputId": "ee3ffa78-554b-45b5-8d54-3e8f7f5f1ff3"
      },
      "execution_count": null,
      "outputs": [
        {
          "output_type": "execute_result",
          "data": {
            "text/plain": [
              "[{'job_title': 'Data Analyst',\n",
              "  'job_skills': ['Python', 'Excel', 'SQL'],\n",
              "  'remote': True},\n",
              " {'job_title': 'DevOps Engineer',\n",
              "  'job_skills': ['AWS', 'Docker', 'Kubernetes', 'Python'],\n",
              "  'remote': True}]"
            ]
          },
          "metadata": {},
          "execution_count": 19
        }
      ]
    }
  ]
}