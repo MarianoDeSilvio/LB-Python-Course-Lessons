{
  "nbformat": 4,
  "nbformat_minor": 0,
  "metadata": {
    "colab": {
      "provenance": []
    },
    "kernelspec": {
      "name": "python3",
      "display_name": "Python 3"
    },
    "language_info": {
      "name": "python"
    }
  },
  "cells": [
    {
      "cell_type": "code",
      "execution_count": null,
      "metadata": {
        "id": "5ToE6uRhI3qq"
      },
      "outputs": [],
      "source": [
        "data_science_jobs = [\n",
        "    {\"job_title\": \"Data Scientist\",\n",
        "     \"job_skills\": \"['Python','SQL','Machine Learning']\",\n",
        "     \"job_date\": \"2023-05-12\"},\n",
        "\n",
        "    {\"job_title\": \"Data Analyst\",\n",
        "     \"job_skills\": \"['Excel','SQL','Data Visualization']\",\n",
        "     \"job_date\": \"2023-06-01\"},\n",
        "\n",
        "    {\"job_title\": \"Machine Learning Engineer\",\n",
        "     \"job_skills\": \"['Python','TensorFlow','Deep Learning']\",\n",
        "     \"job_date\": \"2023-06-15\"},\n",
        "\n",
        "    {\"job_title\": \"Business Intelligence Analyst\",\n",
        "     \"job_skills\": \"['Power BI','SQL','Data Warehousing']\",\n",
        "     \"job_date\": \"2023-07-03\"},\n",
        "\n",
        "    {\"job_title\": \"Data Engineer\",\n",
        "     \"job_skills\": \"['Python','Spark','ETL Pipelines']\",\n",
        "     \"job_date\": \"2023-07-20\"},\n",
        "\n",
        "    {\"job_title\": \"Research Scientist\",\n",
        "     \"job_skills\": \"['Python','Statistics','NLP']\",\n",
        "     \"job_date\": \"2023-08-02\"},\n",
        "\n",
        "    {\"job_title\": \"Statistician\",\n",
        "     \"job_skills\": \"['R','SAS','Mathematics']\",\n",
        "     \"job_date\": \"2023-08-15\"},\n",
        "\n",
        "    {\"job_title\": \"AI Specialist\",\n",
        "     \"job_skills\": \"['Python','PyTorch','Computer Vision']\",\n",
        "     \"job_date\": \"2023-09-05\"},\n",
        "\n",
        "    {\"job_title\": \"Data Architect\",\n",
        "     \"job_skills\": \"['SQL','Database Design','Cloud Computing']\",\n",
        "     \"job_date\": \"2023-09-18\"},\n",
        "\n",
        "    {\"job_title\": \"Big Data Engineer\",\n",
        "     \"job_skills\": \"['Hadoop','Scala','Spark']\",\n",
        "     \"job_date\": \"2023-10-01\"}\n",
        "]"
      ]
    },
    {
      "cell_type": "code",
      "source": [
        "type (data_science_jobs [3] [\"job_date\"])"
      ],
      "metadata": {
        "colab": {
          "base_uri": "https://localhost:8080/"
        },
        "id": "MeP9ppwlObsX",
        "outputId": "7d64294d-548b-4f8f-de31-94a47600d37e"
      },
      "execution_count": null,
      "outputs": [
        {
          "output_type": "execute_result",
          "data": {
            "text/plain": [
              "str"
            ]
          },
          "metadata": {},
          "execution_count": 9
        }
      ]
    },
    {
      "cell_type": "code",
      "source": [
        "from datetime import datetime"
      ],
      "metadata": {
        "id": "gmp4ALcPPi0W"
      },
      "execution_count": null,
      "outputs": []
    },
    {
      "cell_type": "code",
      "source": [
        "datetime.now()"
      ],
      "metadata": {
        "colab": {
          "base_uri": "https://localhost:8080/"
        },
        "id": "f4mIqBOlP-mp",
        "outputId": "f5719ca8-6330-4bfe-ff8e-aced4a913db3"
      },
      "execution_count": null,
      "outputs": [
        {
          "output_type": "execute_result",
          "data": {
            "text/plain": [
              "datetime.datetime(2025, 9, 13, 18, 4, 43, 981023)"
            ]
          },
          "metadata": {},
          "execution_count": 11
        }
      ]
    },
    {
      "cell_type": "code",
      "source": [
        "test_date = data_science_jobs [3] [\"job_date\"]\n",
        "\n",
        "test_date = datetime.strptime(test_date, \"%Y-%m-%d\")\n",
        "print(test_date)\n",
        "print(type(test_date))"
      ],
      "metadata": {
        "colab": {
          "base_uri": "https://localhost:8080/"
        },
        "id": "F3kPjI14R9eB",
        "outputId": "cbfd9688-41b1-4125-d484-99f8bcdbc454"
      },
      "execution_count": null,
      "outputs": [
        {
          "output_type": "stream",
          "name": "stdout",
          "text": [
            "2023-07-03 00:00:00\n",
            "<class 'datetime.datetime'>\n"
          ]
        }
      ]
    },
    {
      "cell_type": "code",
      "source": [
        "for job in data_science_jobs:\n",
        "    job[\"job_date\"] = datetime.strptime(job[\"job_date\"], \"%Y-%m-%d\")\n",
        "\n",
        "data_science_jobs"
      ],
      "metadata": {
        "colab": {
          "base_uri": "https://localhost:8080/"
        },
        "id": "O0Lk5sctTKJO",
        "outputId": "367e008d-40b6-4fa7-a22d-820ab7f8dc3e"
      },
      "execution_count": null,
      "outputs": [
        {
          "output_type": "execute_result",
          "data": {
            "text/plain": [
              "[{'job_title': 'Data Scientist',\n",
              "  'job_skills': \"['Python','SQL','Machine Learning']\",\n",
              "  'job_date': datetime.datetime(2023, 5, 12, 0, 0)},\n",
              " {'job_title': 'Data Analyst',\n",
              "  'job_skills': \"['Excel','SQL','Data Visualization']\",\n",
              "  'job_date': datetime.datetime(2023, 6, 1, 0, 0)},\n",
              " {'job_title': 'Machine Learning Engineer',\n",
              "  'job_skills': \"['Python','TensorFlow','Deep Learning']\",\n",
              "  'job_date': datetime.datetime(2023, 6, 15, 0, 0)},\n",
              " {'job_title': 'Business Intelligence Analyst',\n",
              "  'job_skills': \"['Power BI','SQL','Data Warehousing']\",\n",
              "  'job_date': datetime.datetime(2023, 7, 3, 0, 0)},\n",
              " {'job_title': 'Data Engineer',\n",
              "  'job_skills': \"['Python','Spark','ETL Pipelines']\",\n",
              "  'job_date': datetime.datetime(2023, 7, 20, 0, 0)},\n",
              " {'job_title': 'Research Scientist',\n",
              "  'job_skills': \"['Python','Statistics','NLP']\",\n",
              "  'job_date': datetime.datetime(2023, 8, 2, 0, 0)},\n",
              " {'job_title': 'Statistician',\n",
              "  'job_skills': \"['R','SAS','Mathematics']\",\n",
              "  'job_date': datetime.datetime(2023, 8, 15, 0, 0)},\n",
              " {'job_title': 'AI Specialist',\n",
              "  'job_skills': \"['Python','PyTorch','Computer Vision']\",\n",
              "  'job_date': datetime.datetime(2023, 9, 5, 0, 0)},\n",
              " {'job_title': 'Data Architect',\n",
              "  'job_skills': \"['SQL','Database Design','Cloud Computing']\",\n",
              "  'job_date': datetime.datetime(2023, 9, 18, 0, 0)},\n",
              " {'job_title': 'Big Data Engineer',\n",
              "  'job_skills': \"['Hadoop','Scala','Spark']\",\n",
              "  'job_date': datetime.datetime(2023, 10, 1, 0, 0)}]"
            ]
          },
          "metadata": {},
          "execution_count": 19
        }
      ]
    },
    {
      "cell_type": "code",
      "source": [
        "import ast"
      ],
      "metadata": {
        "id": "agtAbWF_UpH3"
      },
      "execution_count": null,
      "outputs": []
    },
    {
      "cell_type": "code",
      "source": [
        "for job in data_science_jobs:\n",
        "  job[\"job_skills\"] = ast.literal_eval(job[\"job_skills\"])"
      ],
      "metadata": {
        "id": "ig104mwAUqzn"
      },
      "execution_count": null,
      "outputs": []
    },
    {
      "cell_type": "code",
      "source": [
        "data_science_jobs"
      ],
      "metadata": {
        "id": "AfEw39FvUzC3",
        "outputId": "c681a8c3-807c-4625-c39b-f691f60f64f3",
        "colab": {
          "base_uri": "https://localhost:8080/"
        }
      },
      "execution_count": null,
      "outputs": [
        {
          "output_type": "execute_result",
          "data": {
            "text/plain": [
              "[{'job_title': 'Data Scientist',\n",
              "  'job_skills': ['Python', 'SQL', 'Machine Learning'],\n",
              "  'job_date': datetime.datetime(2023, 5, 12, 0, 0)},\n",
              " {'job_title': 'Data Analyst',\n",
              "  'job_skills': ['Excel', 'SQL', 'Data Visualization'],\n",
              "  'job_date': datetime.datetime(2023, 6, 1, 0, 0)},\n",
              " {'job_title': 'Machine Learning Engineer',\n",
              "  'job_skills': ['Python', 'TensorFlow', 'Deep Learning'],\n",
              "  'job_date': datetime.datetime(2023, 6, 15, 0, 0)},\n",
              " {'job_title': 'Business Intelligence Analyst',\n",
              "  'job_skills': ['Power BI', 'SQL', 'Data Warehousing'],\n",
              "  'job_date': datetime.datetime(2023, 7, 3, 0, 0)},\n",
              " {'job_title': 'Data Engineer',\n",
              "  'job_skills': ['Python', 'Spark', 'ETL Pipelines'],\n",
              "  'job_date': datetime.datetime(2023, 7, 20, 0, 0)},\n",
              " {'job_title': 'Research Scientist',\n",
              "  'job_skills': ['Python', 'Statistics', 'NLP'],\n",
              "  'job_date': datetime.datetime(2023, 8, 2, 0, 0)},\n",
              " {'job_title': 'Statistician',\n",
              "  'job_skills': ['R', 'SAS', 'Mathematics'],\n",
              "  'job_date': datetime.datetime(2023, 8, 15, 0, 0)},\n",
              " {'job_title': 'AI Specialist',\n",
              "  'job_skills': ['Python', 'PyTorch', 'Computer Vision'],\n",
              "  'job_date': datetime.datetime(2023, 9, 5, 0, 0)},\n",
              " {'job_title': 'Data Architect',\n",
              "  'job_skills': ['SQL', 'Database Design', 'Cloud Computing'],\n",
              "  'job_date': datetime.datetime(2023, 9, 18, 0, 0)},\n",
              " {'job_title': 'Big Data Engineer',\n",
              "  'job_skills': ['Hadoop', 'Scala', 'Spark'],\n",
              "  'job_date': datetime.datetime(2023, 10, 1, 0, 0)}]"
            ]
          },
          "metadata": {},
          "execution_count": 22
        }
      ]
    }
  ]
}