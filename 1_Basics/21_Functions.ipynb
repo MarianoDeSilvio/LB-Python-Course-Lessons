{
  "nbformat": 4,
  "nbformat_minor": 0,
  "metadata": {
    "colab": {
      "provenance": []
    },
    "kernelspec": {
      "name": "python3",
      "display_name": "Python 3"
    },
    "language_info": {
      "name": "python"
    }
  },
  "cells": [
    {
      "cell_type": "code",
      "execution_count": null,
      "metadata": {
        "colab": {
          "base_uri": "https://localhost:8080/"
        },
        "id": "HiyDiJ9LkXEC",
        "outputId": "c1d2682b-3e6c-4993-d2cb-500664050ffd"
      },
      "outputs": [
        {
          "output_type": "execute_result",
          "data": {
            "text/plain": [
              "3"
            ]
          },
          "metadata": {},
          "execution_count": 1
        }
      ],
      "source": [
        "my_skills = [\"Python\", \"SQL\", \"Excel\"]\n",
        "\n",
        "len(my_skills)"
      ]
    },
    {
      "cell_type": "code",
      "source": [
        "count = 0\n",
        "\n",
        "for skill in my_skills:\n",
        "  count += 1\n",
        "\n",
        "count"
      ],
      "metadata": {
        "colab": {
          "base_uri": "https://localhost:8080/"
        },
        "id": "mNBM-sMYkrXc",
        "outputId": "6597332e-430f-45fe-996e-69b6468604f1"
      },
      "execution_count": null,
      "outputs": [
        {
          "output_type": "execute_result",
          "data": {
            "text/plain": [
              "3"
            ]
          },
          "metadata": {},
          "execution_count": 2
        }
      ]
    },
    {
      "cell_type": "code",
      "source": [
        "# BUILT-IN FUNCTIONS\n",
        "\n",
        "import types\n",
        "\n",
        "# List of built-in functions\n",
        "print([func for func in dir(__builtins__) if isinstance(getattr(__builtins__, func), types.BuiltinFunctionType)])"
      ],
      "metadata": {
        "colab": {
          "base_uri": "https://localhost:8080/"
        },
        "id": "vCTR9ZeWo3yX",
        "outputId": "3fd02fdb-97bd-4224-c773-ab2e121f649e"
      },
      "execution_count": null,
      "outputs": [
        {
          "output_type": "stream",
          "name": "stdout",
          "text": [
            "['__build_class__', '__import__', 'abs', 'aiter', 'all', 'anext', 'any', 'ascii', 'bin', 'breakpoint', 'callable', 'chr', 'compile', 'delattr', 'dir', 'divmod', 'eval', 'exec', 'format', 'getattr', 'globals', 'hasattr', 'hash', 'hex', 'id', 'isinstance', 'issubclass', 'iter', 'len', 'locals', 'max', 'min', 'next', 'oct', 'open', 'ord', 'pow', 'print', 'repr', 'round', 'setattr', 'sorted', 'sum', 'vars']\n"
          ]
        }
      ]
    },
    {
      "cell_type": "code",
      "source": [
        "data_salaries = [\n",
        "    62000, 67500, 71000, 74000, 78000,\n",
        "    82000, 86000, 90500, 94000, 97500,\n",
        "    101000, 106000, 112000, 118000, 123000,\n",
        "    128000, 133000, 138000, 144000, 149000\n",
        "]"
      ],
      "metadata": {
        "id": "6-JL--7-qf03"
      },
      "execution_count": null,
      "outputs": []
    },
    {
      "cell_type": "code",
      "source": [
        "print(min(data_salaries))\n",
        "print(max(data_salaries))\n",
        "print(sum(data_salaries))\n",
        "print(sorted(data_salaries))\n",
        "print(sorted(data_salaries, reverse=True))\n",
        "# Statistics calculations such as MEAN and SD are not built-in functions"
      ],
      "metadata": {
        "colab": {
          "base_uri": "https://localhost:8080/"
        },
        "id": "3IgPE_1xrGGu",
        "outputId": "5fa9b6a6-7734-4815-ed16-946e02faa412"
      },
      "execution_count": null,
      "outputs": [
        {
          "output_type": "stream",
          "name": "stdout",
          "text": [
            "62000\n",
            "149000\n",
            "2054500\n",
            "[62000, 67500, 71000, 74000, 78000, 82000, 86000, 90500, 94000, 97500, 101000, 106000, 112000, 118000, 123000, 128000, 133000, 138000, 144000, 149000]\n",
            "[149000, 144000, 138000, 133000, 128000, 123000, 118000, 112000, 106000, 101000, 97500, 94000, 90500, 86000, 82000, 78000, 74000, 71000, 67500, 62000]\n"
          ]
        }
      ]
    },
    {
      "cell_type": "code",
      "source": [
        "help(sorted)"
      ],
      "metadata": {
        "colab": {
          "base_uri": "https://localhost:8080/"
        },
        "id": "5LWBnlx8rjcu",
        "outputId": "7cf5d42e-5b16-43fd-9a9b-aa1bf3275d09"
      },
      "execution_count": null,
      "outputs": [
        {
          "output_type": "stream",
          "name": "stdout",
          "text": [
            "Help on built-in function sorted in module builtins:\n",
            "\n",
            "sorted(iterable, /, *, key=None, reverse=False)\n",
            "    Return a new list containing all items from the iterable in ascending order.\n",
            "\n",
            "    A custom key function can be supplied to customize the sort order, and the\n",
            "    reverse flag can be set to request the result in descending order.\n",
            "\n"
          ]
        }
      ]
    },
    {
      "cell_type": "code",
      "source": [
        "base_salary = 100_000\n",
        "bonus_rate = .1\n",
        "\n",
        "# total_salary = base_salary + (base_salary * bonus_rate)\n",
        "total_salary = base_salary * (1 + bonus_rate)\n",
        "total_salary"
      ],
      "metadata": {
        "colab": {
          "base_uri": "https://localhost:8080/"
        },
        "id": "v_5zkw4Es50m",
        "outputId": "a5ed3d1a-3c0d-44ba-a4e5-c9f8325858b5"
      },
      "execution_count": null,
      "outputs": [
        {
          "output_type": "execute_result",
          "data": {
            "text/plain": [
              "110000.00000000001"
            ]
          },
          "metadata": {},
          "execution_count": 12
        }
      ]
    },
    {
      "cell_type": "code",
      "source": [
        "def calculate_salary():\n",
        "  base_salary = 100_000\n",
        "  bonus_rate = .1\n",
        "  total_salary = base_salary * (1 + bonus_rate)\n",
        "  return total_salary"
      ],
      "metadata": {
        "id": "g0thuPiUtfT3"
      },
      "execution_count": null,
      "outputs": []
    },
    {
      "cell_type": "code",
      "source": [
        "calculate_salary()"
      ],
      "metadata": {
        "colab": {
          "base_uri": "https://localhost:8080/"
        },
        "id": "RAZxMAFWuOOQ",
        "outputId": "3c468293-25ca-4235-fb39-d33f493e7d87"
      },
      "execution_count": null,
      "outputs": [
        {
          "output_type": "execute_result",
          "data": {
            "text/plain": [
              "110000.00000000001"
            ]
          },
          "metadata": {},
          "execution_count": 14
        }
      ]
    },
    {
      "cell_type": "code",
      "source": [
        "def calculate_salary(base_salary, bonus_rate):\n",
        "  total_salary = base_salary * (1 + bonus_rate)\n",
        "  return total_salary"
      ],
      "metadata": {
        "id": "fTXFc9tQyRc-"
      },
      "execution_count": null,
      "outputs": []
    },
    {
      "cell_type": "code",
      "source": [
        "calculate_salary(base_salary, bonus_rate)"
      ],
      "metadata": {
        "colab": {
          "base_uri": "https://localhost:8080/"
        },
        "id": "SwqXb15AyXKx",
        "outputId": "d81c654b-519b-4ab3-c1f5-2d4ee60e878b"
      },
      "execution_count": null,
      "outputs": [
        {
          "output_type": "execute_result",
          "data": {
            "text/plain": [
              "110000.00000000001"
            ]
          },
          "metadata": {},
          "execution_count": 16
        }
      ]
    },
    {
      "cell_type": "code",
      "source": [
        "calculate_salary(120_000, .25)"
      ],
      "metadata": {
        "colab": {
          "base_uri": "https://localhost:8080/"
        },
        "id": "amiJpBTjykWx",
        "outputId": "a3ba7e3f-05d6-4e84-9133-a6be87a179f9"
      },
      "execution_count": null,
      "outputs": [
        {
          "output_type": "execute_result",
          "data": {
            "text/plain": [
              "150000.0"
            ]
          },
          "metadata": {},
          "execution_count": 17
        }
      ]
    },
    {
      "cell_type": "code",
      "source": [
        "Numbers = [45, 63, 21, 90]\n",
        "mean = sum(Numbers) / len(Numbers)\n",
        "print(mean)"
      ],
      "metadata": {
        "colab": {
          "base_uri": "https://localhost:8080/"
        },
        "id": "SXn1hyxZy2LL",
        "outputId": "9c8a2ec4-f213-4051-fd93-01b94b805dda"
      },
      "execution_count": null,
      "outputs": [
        {
          "output_type": "stream",
          "name": "stdout",
          "text": [
            "54.75\n"
          ]
        }
      ]
    },
    {
      "cell_type": "code",
      "source": [
        "def mean(numbers):\n",
        "  return sum(numbers) / len(numbers)"
      ],
      "metadata": {
        "id": "wIdPns95zBWM"
      },
      "execution_count": null,
      "outputs": []
    },
    {
      "cell_type": "code",
      "source": [
        "mean([45, 63, 21, 90])"
      ],
      "metadata": {
        "colab": {
          "base_uri": "https://localhost:8080/"
        },
        "id": "ajBOKdb-zUdV",
        "outputId": "e855a167-3a23-4f09-f1ab-07790476573f"
      },
      "execution_count": null,
      "outputs": [
        {
          "output_type": "execute_result",
          "data": {
            "text/plain": [
              "54.75"
            ]
          },
          "metadata": {},
          "execution_count": 21
        }
      ]
    },
    {
      "cell_type": "code",
      "source": [
        "def calculate_salary(base_salary, bonus_rate = .1):\n",
        "  total_salary = base_salary * (1 + bonus_rate)\n",
        "  return total_salary"
      ],
      "metadata": {
        "id": "GGvIuuOQ0NV2"
      },
      "execution_count": null,
      "outputs": []
    },
    {
      "cell_type": "code",
      "source": [
        "calculate_salary(base_salary)"
      ],
      "metadata": {
        "id": "dpzXNx8f0Tif",
        "outputId": "a3836a66-8f9c-455a-8196-6f4f373563c3",
        "colab": {
          "base_uri": "https://localhost:8080/"
        }
      },
      "execution_count": null,
      "outputs": [
        {
          "output_type": "execute_result",
          "data": {
            "text/plain": [
              "110000.00000000001"
            ]
          },
          "metadata": {},
          "execution_count": 23
        }
      ]
    },
    {
      "cell_type": "code",
      "source": [
        "calculate_salary(base_salary, .25)"
      ],
      "metadata": {
        "id": "V5BWTp_d0W6-",
        "outputId": "19736978-1829-405f-89de-e04f0131823d",
        "colab": {
          "base_uri": "https://localhost:8080/"
        }
      },
      "execution_count": null,
      "outputs": [
        {
          "output_type": "execute_result",
          "data": {
            "text/plain": [
              "125000.0"
            ]
          },
          "metadata": {},
          "execution_count": 24
        }
      ]
    }
  ]
}