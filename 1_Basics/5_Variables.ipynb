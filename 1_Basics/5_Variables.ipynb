{
  "nbformat": 4,
  "nbformat_minor": 0,
  "metadata": {
    "colab": {
      "provenance": [],
      "toc_visible": true
    },
    "kernelspec": {
      "name": "python3",
      "display_name": "Python 3"
    },
    "language_info": {
      "name": "python"
    }
  },
  "cells": [
    {
      "cell_type": "code",
      "execution_count": null,
      "metadata": {
        "id": "gKY-SKLiM2F9"
      },
      "outputs": [],
      "source": [
        "salary = 100000 #to define a variable"
      ]
    },
    {
      "cell_type": "code",
      "source": [
        "salary #by executing this Python will output the content of the variable"
      ],
      "metadata": {
        "colab": {
          "base_uri": "https://localhost:8080/"
        },
        "id": "yQxouC8mReMV",
        "outputId": "858d687b-64ae-45d1-e651-05720301cb79"
      },
      "execution_count": null,
      "outputs": [
        {
          "output_type": "execute_result",
          "data": {
            "text/plain": [
              "100000"
            ]
          },
          "metadata": {},
          "execution_count": 4
        }
      ]
    },
    {
      "cell_type": "code",
      "source": [
        "cl#Calculate the following: total_salary = (base_salary) * (1 + bonus_rate)\n",
        "base_salary = 100000\n",
        "bonus_rate = .10 #notice this is a \"float\" variable"
      ],
      "metadata": {
        "id": "ZG5Rdc31R5JQ"
      },
      "execution_count": null,
      "outputs": []
    },
    {
      "cell_type": "code",
      "source": [
        "Total_salary = base_salary * (1+bonus_rate) #press tab to complete the suggested code\n",
        "Total_salary"
      ],
      "metadata": {
        "colab": {
          "base_uri": "https://localhost:8080/"
        },
        "id": "V7hVCzcWSXb1",
        "outputId": "cf584142-f7a2-42ce-c436-bea12ab1066d"
      },
      "execution_count": null,
      "outputs": [
        {
          "output_type": "execute_result",
          "data": {
            "text/plain": [
              "110000.00000000001"
            ]
          },
          "metadata": {},
          "execution_count": 6
        }
      ]
    },
    {
      "cell_type": "code",
      "source": [
        "type(Total_salary) #to check the type of the variable"
      ],
      "metadata": {
        "colab": {
          "base_uri": "https://localhost:8080/"
        },
        "id": "jO3urf27-b33",
        "outputId": "5c658b3d-32db-444c-9022-f434ebbcff76"
      },
      "execution_count": null,
      "outputs": [
        {
          "output_type": "execute_result",
          "data": {
            "text/plain": [
              "float"
            ]
          },
          "metadata": {},
          "execution_count": 14
        }
      ]
    },
    {
      "cell_type": "code",
      "source": [
        "company_name = 'DataWiz Inc.' #to assign text\n",
        "company_name"
      ],
      "metadata": {
        "colab": {
          "base_uri": "https://localhost:8080/",
          "height": 35
        },
        "id": "2zsASlMnTvUS",
        "outputId": "6125b83a-cc5f-443f-9e47-4045e0c450ed"
      },
      "execution_count": null,
      "outputs": [
        {
          "output_type": "execute_result",
          "data": {
            "text/plain": [
              "'DataWiz Inc.'"
            ],
            "application/vnd.google.colaboratory.intrinsic+json": {
              "type": "string"
            }
          },
          "metadata": {},
          "execution_count": 8
        }
      ]
    },
    {
      "cell_type": "code",
      "source": [
        "job_wfh = True #to assign boolean values"
      ],
      "metadata": {
        "id": "ycmvOh_IUJpK"
      },
      "execution_count": null,
      "outputs": []
    },
    {
      "cell_type": "markdown",
      "source": [],
      "metadata": {
        "id": "MVAUJ__CUSju"
      }
    },
    {
      "cell_type": "code",
      "source": [
        "job_wfh"
      ],
      "metadata": {
        "colab": {
          "base_uri": "https://localhost:8080/"
        },
        "id": "BNGG-ATKUVLC",
        "outputId": "f1be0ecc-dbe7-4852-ae5f-6f5975578317"
      },
      "execution_count": null,
      "outputs": [
        {
          "output_type": "execute_result",
          "data": {
            "text/plain": [
              "True"
            ]
          },
          "metadata": {},
          "execution_count": 10
        }
      ]
    },
    {
      "cell_type": "code",
      "source": [
        "#Let's define more variables\n",
        "job_id = 101\n",
        "job_title = 'Data Analyst'\n",
        "job_salary = 125000"
      ],
      "metadata": {
        "id": "1wYGac9kUZ4d"
      },
      "execution_count": null,
      "outputs": []
    },
    {
      "cell_type": "code",
      "source": [
        "#To print description test and values of the variables defined\n",
        "print('Data job description')\n",
        "print(\"++++++++++++++++++++\")\n",
        "print(\"Job ID:       \", job_id) #here I am printing the text job ID + the value of job_id\n",
        "print(\"Company name: \", company_name)\n",
        "print(\"Job Title:    \", job_title)\n",
        "print(\"Salary:       \", job_salary)\n",
        "print(\"WFH:          \", job_wfh)"
      ],
      "metadata": {
        "colab": {
          "base_uri": "https://localhost:8080/"
        },
        "id": "UgYfVEhiUp7B",
        "outputId": "a27843a5-58af-4bc2-c658-d884d68a81ad"
      },
      "execution_count": null,
      "outputs": [
        {
          "output_type": "stream",
          "name": "stdout",
          "text": [
            "Data job description\n",
            "++++++++++++++++++++\n",
            "Job ID:        101\n",
            "Company name:  DataWiz Inc.\n",
            "Job Title:     Data Analyst\n",
            "Salary:        125000\n",
            "WFH:           True\n"
          ]
        }
      ]
    },
    {
      "cell_type": "code",
      "source": [
        "List = []\n",
        "List.append(type(job_wfh))\n",
        "List.append(type(company_name))\n",
        "List"
      ],
      "metadata": {
        "colab": {
          "base_uri": "https://localhost:8080/"
        },
        "id": "4vNJsv1RCQwx",
        "outputId": "bf59852d-14f3-4cbc-d734-56b36505b2ba"
      },
      "execution_count": null,
      "outputs": [
        {
          "output_type": "execute_result",
          "data": {
            "text/plain": [
              "[bool, str]"
            ]
          },
          "metadata": {},
          "execution_count": 19
        }
      ]
    }
  ]
}