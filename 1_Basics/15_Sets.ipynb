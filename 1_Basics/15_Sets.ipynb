{
  "nbformat": 4,
  "nbformat_minor": 0,
  "metadata": {
    "colab": {
      "provenance": []
    },
    "kernelspec": {
      "name": "python3",
      "display_name": "Python 3"
    },
    "language_info": {
      "name": "python"
    }
  },
  "cells": [
    {
      "cell_type": "code",
      "execution_count": null,
      "metadata": {
        "colab": {
          "base_uri": "https://localhost:8080/"
        },
        "id": "6AKysIwy5ctc",
        "outputId": "192b55ef-b8e8-4f5d-9b1a-b01f1d28baa4"
      },
      "outputs": [
        {
          "output_type": "execute_result",
          "data": {
            "text/plain": [
              "{'Python', 'SQL', 'Statistics', 'Tableau'}"
            ]
          },
          "metadata": {},
          "execution_count": 1
        }
      ],
      "source": [
        "job_skills = {'Tableau', 'SQL', 'Python', 'Statistics'}\n",
        "job_skills"
      ]
    },
    {
      "cell_type": "code",
      "source": [
        "job_skills"
      ],
      "metadata": {
        "colab": {
          "base_uri": "https://localhost:8080/"
        },
        "id": "s50ZRvcwY760",
        "outputId": "7d1514cb-4720-4c46-d653-0630da594459"
      },
      "execution_count": null,
      "outputs": [
        {
          "output_type": "execute_result",
          "data": {
            "text/plain": [
              "{'Python', 'SQL', 'Statistics', 'Tableau'}"
            ]
          },
          "metadata": {},
          "execution_count": 4
        }
      ]
    },
    {
      "cell_type": "code",
      "source": [
        "job_skills.add('looker')\n",
        "job_skills"
      ],
      "metadata": {
        "colab": {
          "base_uri": "https://localhost:8080/"
        },
        "id": "FisJhEuTaAf0",
        "outputId": "d7bb08a2-35ea-4e6c-fc8e-c98b847ab053"
      },
      "execution_count": null,
      "outputs": [
        {
          "output_type": "execute_result",
          "data": {
            "text/plain": [
              "{'Python', 'SQL', 'Statistics', 'Tableau', 'looker'}"
            ]
          },
          "metadata": {},
          "execution_count": 5
        }
      ]
    },
    {
      "cell_type": "code",
      "source": [
        "job_skills.add('SQL')\n",
        "job_skills"
      ],
      "metadata": {
        "colab": {
          "base_uri": "https://localhost:8080/"
        },
        "id": "2psj8cNWaPg_",
        "outputId": "bed457f0-32c0-4470-a092-cf509492d86f"
      },
      "execution_count": null,
      "outputs": [
        {
          "output_type": "execute_result",
          "data": {
            "text/plain": [
              "{'Python', 'SQL', 'Statistics', 'Tableau', 'looker'}"
            ]
          },
          "metadata": {},
          "execution_count": 6
        }
      ]
    },
    {
      "cell_type": "code",
      "source": [
        "job_skills.pop()"
      ],
      "metadata": {
        "colab": {
          "base_uri": "https://localhost:8080/",
          "height": 35
        },
        "id": "CON_41V2bAQN",
        "outputId": "ffe30783-0e73-4a93-9ab6-e34cfb312103"
      },
      "execution_count": null,
      "outputs": [
        {
          "output_type": "execute_result",
          "data": {
            "text/plain": [
              "'Python'"
            ],
            "application/vnd.google.colaboratory.intrinsic+json": {
              "type": "string"
            }
          },
          "metadata": {},
          "execution_count": 7
        }
      ]
    },
    {
      "cell_type": "code",
      "source": [
        "job_skills.remove('looker')\n",
        "job_skills"
      ],
      "metadata": {
        "colab": {
          "base_uri": "https://localhost:8080/"
        },
        "id": "othXe77RbY9C",
        "outputId": "cb9f9ec1-642f-466d-9ba4-db1ca7b6bbb0"
      },
      "execution_count": null,
      "outputs": [
        {
          "output_type": "execute_result",
          "data": {
            "text/plain": [
              "{'SQL', 'Statistics', 'Tableau'}"
            ]
          },
          "metadata": {},
          "execution_count": 8
        }
      ]
    },
    {
      "cell_type": "code",
      "source": [
        "job_skills = ['python', 'SQL', 'statistics', 'tableau', 'python', 'SQL', 'statistics', 'tableau']\n",
        "job_skills"
      ],
      "metadata": {
        "colab": {
          "base_uri": "https://localhost:8080/"
        },
        "id": "83lep4hGb_e8",
        "outputId": "a5865ac7-1723-4e5c-e66f-f48a537ef4b7"
      },
      "execution_count": null,
      "outputs": [
        {
          "output_type": "execute_result",
          "data": {
            "text/plain": [
              "['python',\n",
              " 'SQL',\n",
              " 'statistics',\n",
              " 'tableau',\n",
              " 'python',\n",
              " 'SQL',\n",
              " 'statistics',\n",
              " 'tableau']"
            ]
          },
          "metadata": {},
          "execution_count": 11
        }
      ]
    },
    {
      "cell_type": "code",
      "source": [
        "set(job_skills)"
      ],
      "metadata": {
        "colab": {
          "base_uri": "https://localhost:8080/"
        },
        "id": "saNIs8lWcVdj",
        "outputId": "b77ef9ca-57f2-4923-e923-6106ec932ab8"
      },
      "execution_count": null,
      "outputs": [
        {
          "output_type": "execute_result",
          "data": {
            "text/plain": [
              "{'SQL', 'python', 'statistics', 'tableau'}"
            ]
          },
          "metadata": {},
          "execution_count": 12
        }
      ]
    },
    {
      "cell_type": "code",
      "source": [
        "list(set(job_skills))"
      ],
      "metadata": {
        "id": "4SqYbdgCcZkx",
        "outputId": "dc77f2c9-866b-4de6-ad91-b4f7eec7d8ed",
        "colab": {
          "base_uri": "https://localhost:8080/"
        }
      },
      "execution_count": null,
      "outputs": [
        {
          "output_type": "execute_result",
          "data": {
            "text/plain": [
              "['python', 'tableau', 'statistics', 'SQL']"
            ]
          },
          "metadata": {},
          "execution_count": 13
        }
      ]
    }
  ]
}