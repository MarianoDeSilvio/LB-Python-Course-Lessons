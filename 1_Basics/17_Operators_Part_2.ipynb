{
  "nbformat": 4,
  "nbformat_minor": 0,
  "metadata": {
    "colab": {
      "provenance": []
    },
    "kernelspec": {
      "name": "python3",
      "display_name": "Python 3"
    },
    "language_info": {
      "name": "python"
    }
  },
  "cells": [
    {
      "cell_type": "code",
      "execution_count": null,
      "metadata": {
        "colab": {
          "base_uri": "https://localhost:8080/"
        },
        "id": "1caOu-zHlJlF",
        "outputId": "44673b48-6799-4897-91b7-97f25e4474d2"
      },
      "outputs": [
        {
          "output_type": "execute_result",
          "data": {
            "text/plain": [
              "True"
            ]
          },
          "metadata": {},
          "execution_count": 1
        }
      ],
      "source": [
        "job_work_from_home = True\n",
        "job_health_insurrance = True\n",
        "\n",
        "job_work_from_home and job_health_insurrance"
      ]
    },
    {
      "cell_type": "code",
      "source": [
        "job_work_from_home = True\n",
        "job_health_insurrance = False\n",
        "\n",
        "job_work_from_home and job_health_insurrance"
      ],
      "metadata": {
        "colab": {
          "base_uri": "https://localhost:8080/"
        },
        "id": "jV6YNS-7qkKG",
        "outputId": "49fb0cd5-f0f0-4311-81d6-347b8f713216"
      },
      "execution_count": null,
      "outputs": [
        {
          "output_type": "execute_result",
          "data": {
            "text/plain": [
              "False"
            ]
          },
          "metadata": {},
          "execution_count": 3
        }
      ]
    },
    {
      "cell_type": "code",
      "source": [
        "job_work_from_home = True\n",
        "job_health_insurrance = False\n",
        "\n",
        "job_work_from_home or job_health_insurrance"
      ],
      "metadata": {
        "colab": {
          "base_uri": "https://localhost:8080/"
        },
        "id": "6A0k19LsqpLC",
        "outputId": "e0cfa058-1a81-4f05-b739-7769d1dc37e8"
      },
      "execution_count": null,
      "outputs": [
        {
          "output_type": "execute_result",
          "data": {
            "text/plain": [
              "True"
            ]
          },
          "metadata": {},
          "execution_count": 4
        }
      ]
    },
    {
      "cell_type": "code",
      "source": [
        "job_work_from_home = False\n",
        "job_health_insurrance = False\n",
        "job_no_degree_mention = True\n",
        "\n",
        "if job_work_from_home or job_health_insurrance or not job_no_degree_mention:\n",
        "  print (\"meets condition\")\n",
        "else:\n",
        "  print (\"does not meet condition\")"
      ],
      "metadata": {
        "colab": {
          "base_uri": "https://localhost:8080/"
        },
        "id": "RY_C41LjrxLC",
        "outputId": "d2f180c3-e326-4416-a920-c0bf3759683b"
      },
      "execution_count": null,
      "outputs": [
        {
          "output_type": "stream",
          "name": "stdout",
          "text": [
            "does not meet condition\n"
          ]
        }
      ]
    },
    {
      "cell_type": "code",
      "source": [
        "#MEMBERSHIP OPERATOR\n",
        "\n",
        "print(\"data\" in \"Data nerd\")\n",
        "\"Data\" in \"Data nerd\""
      ],
      "metadata": {
        "colab": {
          "base_uri": "https://localhost:8080/"
        },
        "id": "lojFFq4q5hGV",
        "outputId": "ad990e99-22da-46d0-a147-1e9268b7a335"
      },
      "execution_count": null,
      "outputs": [
        {
          "output_type": "stream",
          "name": "stdout",
          "text": [
            "False\n"
          ]
        },
        {
          "output_type": "execute_result",
          "data": {
            "text/plain": [
              "True"
            ]
          },
          "metadata": {},
          "execution_count": 6
        }
      ]
    },
    {
      "cell_type": "code",
      "source": [
        "L_strings = [\"Megadeth\", \"Metallica\", \"Slayer\", \"Anthrax\"]\n",
        "\"Megadeth\" in L_strings"
      ],
      "metadata": {
        "colab": {
          "base_uri": "https://localhost:8080/"
        },
        "id": "GsT7PIBn47rR",
        "outputId": "39d0fe2a-d76e-4148-c587-7472f0c9821e"
      },
      "execution_count": null,
      "outputs": [
        {
          "output_type": "execute_result",
          "data": {
            "text/plain": [
              "True"
            ]
          },
          "metadata": {},
          "execution_count": 2
        }
      ]
    },
    {
      "cell_type": "code",
      "source": [
        "\"Poison\" in L_strings"
      ],
      "metadata": {
        "colab": {
          "base_uri": "https://localhost:8080/"
        },
        "id": "FhG0_gyI5XaU",
        "outputId": "232fcd19-bf2c-449c-c529-b67507a6f448"
      },
      "execution_count": null,
      "outputs": [
        {
          "output_type": "execute_result",
          "data": {
            "text/plain": [
              "False"
            ]
          },
          "metadata": {},
          "execution_count": 3
        }
      ]
    },
    {
      "cell_type": "code",
      "source": [
        "\"Mega\" in L_strings"
      ],
      "metadata": {
        "colab": {
          "base_uri": "https://localhost:8080/"
        },
        "id": "9iyFkV4w5bc-",
        "outputId": "cb261c1b-dddb-486d-e5b6-e563f106643d"
      },
      "execution_count": null,
      "outputs": [
        {
          "output_type": "execute_result",
          "data": {
            "text/plain": [
              "False"
            ]
          },
          "metadata": {},
          "execution_count": 4
        }
      ]
    },
    {
      "cell_type": "code",
      "source": [
        "L_numbers = [1, 2, 3, 4, 5]\n",
        "print(1 in L_numbers)\n",
        "6 in L_numbers"
      ],
      "metadata": {
        "colab": {
          "base_uri": "https://localhost:8080/"
        },
        "id": "0aT8F3Qr5tMJ",
        "outputId": "a33c4c7a-fe51-4903-e9f8-049285429f8b"
      },
      "execution_count": null,
      "outputs": [
        {
          "output_type": "stream",
          "name": "stdout",
          "text": [
            "True\n"
          ]
        },
        {
          "output_type": "execute_result",
          "data": {
            "text/plain": [
              "False"
            ]
          },
          "metadata": {},
          "execution_count": 7
        }
      ]
    },
    {
      "cell_type": "code",
      "source": [
        "4 in 6"
      ],
      "metadata": {
        "colab": {
          "base_uri": "https://localhost:8080/",
          "height": 141
        },
        "id": "ec4yR2dz6gzE",
        "outputId": "73a689a5-82d4-412b-e25b-dda06e94f4c0"
      },
      "execution_count": null,
      "outputs": [
        {
          "output_type": "error",
          "ename": "TypeError",
          "evalue": "argument of type 'int' is not iterable",
          "traceback": [
            "\u001b[0;31m---------------------------------------------------------------------------\u001b[0m",
            "\u001b[0;31mTypeError\u001b[0m                                 Traceback (most recent call last)",
            "\u001b[0;32m/tmp/ipython-input-3212752669.py\u001b[0m in \u001b[0;36m<cell line: 0>\u001b[0;34m()\u001b[0m\n\u001b[0;32m----> 1\u001b[0;31m \u001b[0;36m4\u001b[0m \u001b[0;32min\u001b[0m \u001b[0;36m6\u001b[0m\u001b[0;34m\u001b[0m\u001b[0;34m\u001b[0m\u001b[0m\n\u001b[0m",
            "\u001b[0;31mTypeError\u001b[0m: argument of type 'int' is not iterable"
          ]
        }
      ]
    },
    {
      "cell_type": "code",
      "source": [
        "#IDENTITY OPERATOR\n",
        "\n",
        "Salary_Pibe = 100_000\n",
        "Salary_Mariano = 100_000\n",
        "\n",
        "print(Salary_Pibe == Salary_Mariano)\n",
        "print(Salary_Pibe is Salary_Mariano)\n",
        "print(id(Salary_Pibe))\n",
        "print(id(Salary_Mariano))"
      ],
      "metadata": {
        "colab": {
          "base_uri": "https://localhost:8080/"
        },
        "id": "GaxRgTDN7aTx",
        "outputId": "f9ff149e-4aae-43b9-8491-231809dda975"
      },
      "execution_count": null,
      "outputs": [
        {
          "output_type": "stream",
          "name": "stdout",
          "text": [
            "139473819320720\n",
            "139473819322960\n"
          ]
        }
      ]
    },
    {
      "cell_type": "code",
      "source": [
        "Salary_Pibe = Salary_Mariano\n",
        "print(Salary_Pibe is Salary_Mariano)\n",
        "print(id(Salary_Pibe))\n",
        "print(id(Salary_Mariano))"
      ],
      "metadata": {
        "colab": {
          "base_uri": "https://localhost:8080/"
        },
        "id": "82hsv8Cw8GfU",
        "outputId": "68c75c30-26ae-4d09-cb07-b17db36fe800"
      },
      "execution_count": null,
      "outputs": [
        {
          "output_type": "stream",
          "name": "stdout",
          "text": [
            "139473819322960\n",
            "139473819322960\n"
          ]
        }
      ]
    },
    {
      "cell_type": "code",
      "source": [
        "bin(4300)"
      ],
      "metadata": {
        "colab": {
          "base_uri": "https://localhost:8080/",
          "height": 35
        },
        "id": "v1RkuFUF-RrY",
        "outputId": "9cf2dc90-b19f-4f8e-dd73-860ddcdb2c93"
      },
      "execution_count": null,
      "outputs": [
        {
          "output_type": "execute_result",
          "data": {
            "text/plain": [
              "'0b1000011001100'"
            ],
            "application/vnd.google.colaboratory.intrinsic+json": {
              "type": "string"
            }
          },
          "metadata": {},
          "execution_count": 17
        }
      ]
    },
    {
      "cell_type": "code",
      "source": [],
      "metadata": {
        "id": "NA37o-Fv-r9d"
      },
      "execution_count": null,
      "outputs": []
    }
  ]
}