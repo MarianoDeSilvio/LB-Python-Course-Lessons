{
  "nbformat": 4,
  "nbformat_minor": 0,
  "metadata": {
    "colab": {
      "provenance": []
    },
    "kernelspec": {
      "name": "python3",
      "display_name": "Python 3"
    },
    "language_info": {
      "name": "python"
    }
  },
  "cells": [
    {
      "cell_type": "code",
      "execution_count": null,
      "metadata": {
        "id": "O4Z890AmUquh"
      },
      "outputs": [],
      "source": [
        "my_skills = [\"Python\", \"SQL\", \"Excel\"]"
      ]
    },
    {
      "cell_type": "code",
      "source": [
        "job_roles = [\n",
        "    {'role': 'Data Analyst', 'skills': ['Python', 'SQL', 'Excel']},\n",
        "    {'role': 'Data Scientist', 'skills': ['Python', 'R', 'Machine Learning', 'Deep Learning']},\n",
        "    {'role': 'Machine Learning Engineer', 'skills': ['Python', 'TensorFlow', 'PyTorch', 'Scikit-Learn']},\n",
        "    {'role': 'Data Engineer', 'skills': ['Python', 'Apache Spark', 'Hadoop', 'SQL']},\n",
        "    {'role': 'Business Intelligence Analyst', 'skills': ['Python', 'SQL', 'Tableau', 'Power BI', 'Excel']},\n",
        "    {'role': 'Quantitative Analyst', 'skills': ['R', 'Python', 'MATLAB', 'Statistics']},\n",
        "    {'role': 'Operations Analyst', 'skills': ['Python', 'SQL', 'Data Visualization', 'Process Improvement']},\n",
        "    {'role': 'Database Administrator', 'skills': ['SQL', 'Oracle', 'MySQL', 'Database Management']},\n",
        "    {'role': 'AI Engineer', 'skills': ['Python', 'TensorFlow', 'PyTorch', 'Computer Vision']},\n",
        "    {'role': 'Statistician', 'skills': ['R', 'SAS', 'Python', 'Statistical Modeling']}\n",
        "]"
      ],
      "metadata": {
        "id": "Fkdek5mTVlIg"
      },
      "execution_count": null,
      "outputs": []
    },
    {
      "cell_type": "code",
      "source": [
        "for job in job_roles:\n",
        "  qualified = True\n",
        "  for skill in my_skills:\n",
        "    if skill not in job['skills']:\n",
        "      qualified = False\n",
        "      break\n",
        "  if qualified:\n",
        "    print(job)"
      ],
      "metadata": {
        "colab": {
          "base_uri": "https://localhost:8080/"
        },
        "id": "Pz_QTpKEWa6D",
        "outputId": "1523393e-9747-48b8-bc37-87520caed5fe"
      },
      "execution_count": null,
      "outputs": [
        {
          "output_type": "stream",
          "name": "stdout",
          "text": [
            "{'role': 'Data Analyst', 'skills': ['Python', 'SQL', 'Excel']}\n",
            "{'role': 'Business Intelligence Analyst', 'skills': ['Python', 'SQL', 'Tableau', 'Power BI', 'Excel']}\n"
          ]
        }
      ]
    },
    {
      "cell_type": "code",
      "source": [
        "qualified_roles = []\n",
        "\n",
        "for job in job_roles:\n",
        "  qualified = True\n",
        "  for skill in my_skills:\n",
        "    if skill not in job['skills']:\n",
        "      qualified = False\n",
        "      break\n",
        "  if qualified:\n",
        "   qualified_roles.append(job)\n",
        "\n",
        "qualified_roles"
      ],
      "metadata": {
        "colab": {
          "base_uri": "https://localhost:8080/"
        },
        "id": "D60xIrHvg3dz",
        "outputId": "af2feae7-c74d-4f0e-fc8e-882061e42d34"
      },
      "execution_count": null,
      "outputs": [
        {
          "output_type": "execute_result",
          "data": {
            "text/plain": [
              "[{'role': 'Data Analyst', 'skills': ['Python', 'SQL', 'Excel']},\n",
              " {'role': 'Business Intelligence Analyst',\n",
              "  'skills': ['Python', 'SQL', 'Tableau', 'Power BI', 'Excel']}]"
            ]
          },
          "metadata": {},
          "execution_count": 8
        }
      ]
    },
    {
      "cell_type": "code",
      "source": [
        "qualified_roles_2 = []\n",
        "\n",
        "for job in job_roles:\n",
        "  if all(skill in job['skills'] for skill in my_skills):\n",
        "    qualified_roles_2.append(job)\n",
        "\n",
        "qualified_roles_2"
      ],
      "metadata": {
        "colab": {
          "base_uri": "https://localhost:8080/"
        },
        "id": "ne-9t-Yyhk_k",
        "outputId": "8eac6d39-7a14-419d-96c6-7557baac0274"
      },
      "execution_count": null,
      "outputs": [
        {
          "output_type": "execute_result",
          "data": {
            "text/plain": [
              "[{'role': 'Data Analyst', 'skills': ['Python', 'SQL', 'Excel']},\n",
              " {'role': 'Business Intelligence Analyst',\n",
              "  'skills': ['Python', 'SQL', 'Tableau', 'Power BI', 'Excel']}]"
            ]
          },
          "metadata": {},
          "execution_count": 9
        }
      ]
    },
    {
      "cell_type": "code",
      "source": [
        "qualified_roles_3 = [job for job in job_roles if all(skill in job['skills'] for skill in my_skills)]\n",
        "qualified_roles_3"
      ],
      "metadata": {
        "colab": {
          "base_uri": "https://localhost:8080/"
        },
        "id": "dVM0g6Yziu7B",
        "outputId": "eb8b7e98-d332-450b-bed1-0e4062685e7a"
      },
      "execution_count": null,
      "outputs": [
        {
          "output_type": "execute_result",
          "data": {
            "text/plain": [
              "[{'role': 'Data Analyst', 'skills': ['Python', 'SQL', 'Excel']},\n",
              " {'role': 'Business Intelligence Analyst',\n",
              "  'skills': ['Python', 'SQL', 'Tableau', 'Power BI', 'Excel']}]"
            ]
          },
          "metadata": {},
          "execution_count": 10
        }
      ]
    }
  ]
}