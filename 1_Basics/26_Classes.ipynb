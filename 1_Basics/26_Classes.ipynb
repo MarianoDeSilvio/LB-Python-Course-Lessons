{
  "cells": [
    {
      "cell_type": "code",
      "execution_count": 2,
      "metadata": {
        "id": "d_Qt6EIUPBVx"
      },
      "outputs": [],
      "source": [
        "class LukesList:\n",
        "  def __init__(self):\n",
        "    \"\"\"Initialize an empty list.\"\"\"\n",
        "    self._items = []\n",
        "\n",
        "  def add(self, item):\n",
        "    \"\"\"Add an item to the end of the list.\"\"\"\n",
        "    self._items.append(item)\n",
        "\n",
        "  def __getitem__(self, index):\n",
        "    \"\"\"Retrieve an item by index.\"\"\"\n",
        "    return self._items[index]\n",
        "\n",
        "  def __setitem__(self, index, value):\n",
        "    \"\"\"Set an item at a specific index.\"\"\"\n",
        "    self._items[index] = value\n",
        "\n",
        "  def __repr__(self):\n",
        "    \"\"\"Get the string representation of the list.\"\"\"\n",
        "    return str(self._items)\n",
        "\n",
        "  def __len__(self):\n",
        "    \"\"\"Get the length of the list.\"\"\"\n",
        "    return len(self._items)"
      ]
    },
    {
      "cell_type": "code",
      "execution_count": 3,
      "metadata": {
        "colab": {
          "base_uri": "https://localhost:8080/"
        },
        "id": "7XTsrbTvR8Nj",
        "outputId": "249c8254-b398-40ce-a858-ac9cf106b48d"
      },
      "outputs": [
        {
          "data": {
            "text/plain": [
              "[]"
            ]
          },
          "execution_count": 3,
          "metadata": {},
          "output_type": "execute_result"
        }
      ],
      "source": [
        "my_list = LukesList()\n",
        "my_list"
      ]
    },
    {
      "cell_type": "code",
      "execution_count": 4,
      "metadata": {
        "colab": {
          "base_uri": "https://localhost:8080/",
          "height": 104
        },
        "id": "q8S0Rc-1ShLw",
        "outputId": "7f7f3197-c284-489c-8639-33a425e146b9"
      },
      "outputs": [
        {
          "data": {
            "text/plain": [
              "__main__.LukesList"
            ]
          },
          "execution_count": 4,
          "metadata": {},
          "output_type": "execute_result"
        }
      ],
      "source": [
        "type(my_list)"
      ]
    },
    {
      "cell_type": "code",
      "execution_count": 5,
      "metadata": {
        "id": "--avy7xlSojG"
      },
      "outputs": [],
      "source": [
        "my_list.add(\"Data Nerd\")"
      ]
    },
    {
      "cell_type": "code",
      "execution_count": 6,
      "metadata": {
        "id": "olZ-S-_CaBj1"
      },
      "outputs": [],
      "source": [
        "my_list.add(\"Finance Nerd\")"
      ]
    },
    {
      "cell_type": "code",
      "execution_count": 7,
      "metadata": {
        "colab": {
          "base_uri": "https://localhost:8080/"
        },
        "id": "huZZOWabaD8A",
        "outputId": "f43fd07f-c2a7-4a2d-bb11-26b7c9f398b4"
      },
      "outputs": [
        {
          "data": {
            "text/plain": [
              "['Data Nerd', 'Finance Nerd']"
            ]
          },
          "execution_count": 7,
          "metadata": {},
          "output_type": "execute_result"
        }
      ],
      "source": [
        "my_list"
      ]
    },
    {
      "cell_type": "code",
      "execution_count": null,
      "metadata": {
        "colab": {
          "base_uri": "https://localhost:8080/"
        },
        "id": "Nm5xBnk6aK3D",
        "outputId": "c00152a2-7640-4995-d6b0-e7be884366e0"
      },
      "outputs": [
        {
          "data": {
            "text/plain": [
              "2"
            ]
          },
          "execution_count": 11,
          "metadata": {},
          "output_type": "execute_result"
        }
      ],
      "source": [
        "len(my_list)"
      ]
    },
    {
      "cell_type": "code",
      "execution_count": null,
      "metadata": {
        "id": "GUE6fhEiav4A"
      },
      "outputs": [],
      "source": [
        "def calculate_salary(base_salary, bonus_rate=.1):\n",
        "  return base_salary * (1 + bonus_rate)\n",
        "\n",
        "def calculate_bonus (total_salary, base_salary):\n",
        "  return (total_salary - base_salary) / base_salary"
      ]
    },
    {
      "cell_type": "code",
      "execution_count": null,
      "metadata": {
        "id": "769CXmuYbOlU"
      },
      "outputs": [],
      "source": [
        "class BaseSalary:\n",
        "    def __init__(self, base_salary, bonus_rate=0.1, symbol=\"$\"):\n",
        "        \"\"\"\n",
        "        Initialize the Salary instance for managing salary computations.\n",
        "\n",
        "        Args:\n",
        "            base_salary (float): The base salary.\n",
        "            bonus_rate (float): The bonus rate. Default is 0.1.\n",
        "            symbol (str): The currency symbol. Default is \"$\".\n",
        "        \"\"\"\n",
        "        self.base_salary = base_salary\n",
        "        self.bonus_rate = bonus_rate\n",
        "        self.symbol = symbol\n",
        "\n",
        "    def __repr__(self):\n",
        "        return f\"{self.symbol}{self.base_salary:,.0f}\"\n",
        "\n",
        "    def calculate_total_salary(self):\n",
        "        \"\"\"\n",
        "        Calculate the total salary based on the base salary and the bonus rate.\n",
        "\n",
        "        Returns:\n",
        "            Salary: The total salary as a Salary instance, retaining the symbol and bonus rate.\n",
        "        \"\"\"\n",
        "        total_salary = self.base_salary * (1 + self.bonus_rate)\n",
        "        return Salary(total_salary, self.symbol, self.bonus_rate)"
      ]
    },
    {
      "cell_type": "code",
      "execution_count": null,
      "metadata": {
        "colab": {
          "base_uri": "https://localhost:8080/"
        },
        "id": "r0EoGpRLc1qD",
        "outputId": "ed21e73d-3b04-4294-a86e-3f5699dc836a"
      },
      "outputs": [
        {
          "data": {
            "text/plain": [
              "$100,000"
            ]
          },
          "execution_count": 17,
          "metadata": {},
          "output_type": "execute_result"
        }
      ],
      "source": [
        "data_salary = BaseSalary(100000)\n",
        "data_salary"
      ]
    },
    {
      "cell_type": "code",
      "execution_count": null,
      "metadata": {
        "id": "E5ZbUdDUg7w8"
      },
      "outputs": [],
      "source": [
        "class BaseSalary:\n",
        "  def __init__(self, base_salary, bonus_rate=.1, symbol=\"$\"):\n",
        "    self.base_salary = base_salary\n",
        "    self.bonus_rate = bonus_rate\n",
        "    self.symbol = symbol\n",
        "    self.total_salary = base_salary * (1 + bonus_rate)\n",
        "    self.bonus = self.total_salary - base_salary\n",
        "\n",
        "  def __repr__(self):\n",
        "    return f\"{self.symbol}{self.base_salary:,.0f}\"\n",
        "\n",
        "  def calculate_salary(self):\n",
        "    return f\"{self.symbol}{self.total_salary:,.0f}\"\n",
        "\n",
        "  def calculate_bonus (self):\n",
        "    return f\"{self.symbol}{self.bonus:,.0f}\""
      ]
    },
    {
      "cell_type": "code",
      "execution_count": 10,
      "metadata": {},
      "outputs": [],
      "source": [
        "class BaseSalary:\n",
        "  def __init__(self, base_salary, bonus_rate=.1, symbol=\"$\"):\n",
        "    self.base_salary = base_salary\n",
        "    self.bonus_rate = bonus_rate\n",
        "    self.symbol = symbol\n",
        "    self.total_salary = base_salary * (1 + bonus_rate)\n",
        "    self.bonus = self.total_salary - base_salary\n",
        "  def __repr__(self):\n",
        "    return (\n",
        "        f\"{self.symbol}{self.base_salary:,.0f}\\n\"\n",
        "        f\"Total salary: {self.symbol}{self.total_salary:,.0f}\\n\"\n",
        "        f\"Bonus rate: {self.symbol}{self.bonus:,.0f}\")\n"
      ]
    },
    {
      "cell_type": "code",
      "execution_count": 11,
      "metadata": {
        "colab": {
          "base_uri": "https://localhost:8080/"
        },
        "id": "4ZzOqzBfjieR",
        "outputId": "d9fb4b82-6de1-4340-cdcb-7ecf812b5a8a"
      },
      "outputs": [
        {
          "data": {
            "text/plain": [
              "$100,000\n",
              "Total salary: $110,000\n",
              "Bonus rate: $10,000"
            ]
          },
          "execution_count": 11,
          "metadata": {},
          "output_type": "execute_result"
        }
      ],
      "source": [
        "my_salary = BaseSalary(100000)\n",
        "my_salary"
      ]
    }
  ],
  "metadata": {
    "colab": {
      "provenance": []
    },
    "kernelspec": {
      "display_name": "python_course",
      "language": "python",
      "name": "python3"
    },
    "language_info": {
      "codemirror_mode": {
        "name": "ipython",
        "version": 3
      },
      "file_extension": ".py",
      "mimetype": "text/x-python",
      "name": "python",
      "nbconvert_exporter": "python",
      "pygments_lexer": "ipython3",
      "version": "3.11.13"
    }
  },
  "nbformat": 4,
  "nbformat_minor": 0
}
