{
  "nbformat": 4,
  "nbformat_minor": 0,
  "metadata": {
    "colab": {
      "provenance": []
    },
    "kernelspec": {
      "name": "python3",
      "display_name": "Python 3"
    },
    "language_info": {
      "name": "python"
    }
  },
  "cells": [
    {
      "cell_type": "code",
      "execution_count": null,
      "metadata": {
        "colab": {
          "base_uri": "https://localhost:8080/"
        },
        "id": "t5pLt_dWqr35",
        "outputId": "48978745-ee06-46a1-c0e4-6ef41035c1f0"
      },
      "outputs": [
        {
          "output_type": "stream",
          "name": "stdout",
          "text": [
            "What's up Data Nerds!\n"
          ]
        }
      ],
      "source": [
        "if True:\n",
        "  print(\"What's up Data Nerds!\")"
      ]
    },
    {
      "cell_type": "code",
      "source": [
        "if True:\n",
        "print(\"What's up Data Nerds!\")"
      ],
      "metadata": {
        "colab": {
          "base_uri": "https://localhost:8080/",
          "height": 106
        },
        "id": "Qak_JgSQsvGL",
        "outputId": "eb6c6604-1b65-40cc-86cb-67d662a3aeff"
      },
      "execution_count": null,
      "outputs": [
        {
          "output_type": "error",
          "ename": "IndentationError",
          "evalue": "expected an indented block after 'if' statement on line 1 (ipython-input-685757537.py, line 2)",
          "traceback": [
            "\u001b[0;36m  File \u001b[0;32m\"/tmp/ipython-input-685757537.py\"\u001b[0;36m, line \u001b[0;32m2\u001b[0m\n\u001b[0;31m    print(\"What's up Data Nerds!\")\u001b[0m\n\u001b[0m    ^\u001b[0m\n\u001b[0;31mIndentationError\u001b[0m\u001b[0;31m:\u001b[0m expected an indented block after 'if' statement on line 1\n"
          ]
        }
      ]
    },
    {
      "cell_type": "code",
      "source": [
        "job_skill = \"SQL\"\n",
        "applicant_skill = \"SQL\""
      ],
      "metadata": {
        "id": "qDyv_LKauJi0"
      },
      "execution_count": null,
      "outputs": []
    },
    {
      "cell_type": "code",
      "source": [
        "if job_skill == applicant_skill:\n",
        "  print(\"Skills Match!\")"
      ],
      "metadata": {
        "colab": {
          "base_uri": "https://localhost:8080/"
        },
        "id": "FZrm87_kuQhC",
        "outputId": "09d0947c-606a-4a41-d7f9-b5bc98cd1c55"
      },
      "execution_count": null,
      "outputs": [
        {
          "output_type": "stream",
          "name": "stdout",
          "text": [
            "Skills Match!\n"
          ]
        }
      ]
    },
    {
      "cell_type": "code",
      "source": [
        "job_skill = \"SQL\"\n",
        "applicant_skill = \"Python\"\n",
        "years_experience = 6\n",
        "\n",
        "if job_skill == applicant_skill:\n",
        "  print(\"Skills Match!\")\n",
        "elif years_experience >= 5:\n",
        "  print(\"Years of Experience Match!\")"
      ],
      "metadata": {
        "colab": {
          "base_uri": "https://localhost:8080/"
        },
        "id": "t1tW2A_Avosb",
        "outputId": "de85c4b4-3ff5-4626-d0eb-e190650bb298"
      },
      "execution_count": null,
      "outputs": [
        {
          "output_type": "stream",
          "name": "stdout",
          "text": [
            "Years of Experience Match!\n"
          ]
        }
      ]
    },
    {
      "cell_type": "code",
      "source": [
        "job_skill = \"SQL\"\n",
        "applicant_skill = \"Python\"\n",
        "years_experience = 3\n",
        "\n",
        "if job_skill == applicant_skill:\n",
        "  print(\"Skills Match!\")\n",
        "elif years_experience >= 5:\n",
        "  print(\"Years of Experience Match!\")\n",
        "else:\n",
        "  print(\"No skill or experience\")"
      ],
      "metadata": {
        "colab": {
          "base_uri": "https://localhost:8080/"
        },
        "id": "WdPgILXkwTAX",
        "outputId": "5f25e572-b41a-4e14-9ddb-2e4a38db1a33"
      },
      "execution_count": null,
      "outputs": [
        {
          "output_type": "stream",
          "name": "stdout",
          "text": [
            "No skill or experience\n"
          ]
        }
      ]
    },
    {
      "cell_type": "code",
      "source": [
        "job_skill = \"SQL\"\n",
        "applicant_skill = \"Python\"\n",
        "years_experience = 3\n",
        "\n",
        "if job_skill == applicant_skill:\n",
        "  print(\"Skills Match!\")\n",
        "elif years_experience >= 5:\n",
        "  print(\"Years of Experience Match!\")\n",
        "elif applicant_skill == \"Python\"\n",
        "  print(\"This applicant should know SQL\")\n",
        "else:\n",
        "  print(\"No skill or experience\")"
      ],
      "metadata": {
        "id": "nbjcOKkfw1VA"
      },
      "execution_count": null,
      "outputs": []
    }
  ]
}