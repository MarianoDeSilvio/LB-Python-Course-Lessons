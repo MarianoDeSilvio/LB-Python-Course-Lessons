{
  "nbformat": 4,
  "nbformat_minor": 0,
  "metadata": {
    "colab": {
      "provenance": []
    },
    "kernelspec": {
      "name": "python3",
      "display_name": "Python 3"
    },
    "language_info": {
      "name": "python"
    }
  },
  "cells": [
    {
      "cell_type": "code",
      "execution_count": null,
      "metadata": {
        "colab": {
          "base_uri": "https://localhost:8080/"
        },
        "id": "-uWvRwODzklq",
        "outputId": "62778223-1670-44dc-a494-b0b0a6b699ab"
      },
      "outputs": [
        {
          "output_type": "execute_result",
          "data": {
            "text/plain": [
              "{'Database': 'Pubmed'}"
            ]
          },
          "metadata": {},
          "execution_count": 1
        }
      ],
      "source": [
        "{\"Database\": \"Pubmed\"}"
      ]
    },
    {
      "cell_type": "code",
      "source": [
        "{4: \"Pubmed\"}"
      ],
      "metadata": {
        "colab": {
          "base_uri": "https://localhost:8080/"
        },
        "id": "hLBAED090M9N",
        "outputId": "e95f11bf-3d49-4f81-ba41-ce1b6dd06c02"
      },
      "execution_count": null,
      "outputs": [
        {
          "output_type": "execute_result",
          "data": {
            "text/plain": [
              "{4: 'Pubmed'}"
            ]
          },
          "metadata": {},
          "execution_count": 2
        }
      ]
    },
    {
      "cell_type": "code",
      "source": [
        "{[4]: \"Pubmed\"}"
      ],
      "metadata": {
        "colab": {
          "base_uri": "https://localhost:8080/",
          "height": 141
        },
        "id": "o-IX6C7Z0Ovx",
        "outputId": "accc028e-1c84-4c59-b603-5ddf5b593081"
      },
      "execution_count": null,
      "outputs": [
        {
          "output_type": "error",
          "ename": "TypeError",
          "evalue": "unhashable type: 'list'",
          "traceback": [
            "\u001b[0;31m---------------------------------------------------------------------------\u001b[0m",
            "\u001b[0;31mTypeError\u001b[0m                                 Traceback (most recent call last)",
            "\u001b[0;32m/tmp/ipython-input-3737264709.py\u001b[0m in \u001b[0;36m<cell line: 0>\u001b[0;34m()\u001b[0m\n\u001b[0;32m----> 1\u001b[0;31m \u001b[0;34m{\u001b[0m\u001b[0;34m[\u001b[0m\u001b[0;36m4\u001b[0m\u001b[0;34m]\u001b[0m\u001b[0;34m:\u001b[0m \u001b[0;34m\"Pubmed\"\u001b[0m\u001b[0;34m}\u001b[0m\u001b[0;34m\u001b[0m\u001b[0;34m\u001b[0m\u001b[0m\n\u001b[0m",
            "\u001b[0;31mTypeError\u001b[0m: unhashable type: 'list'"
          ]
        }
      ]
    },
    {
      "cell_type": "code",
      "source": [
        "{\"Database\": [\"Pubmed\", 3, [\"RNA\", \"DNA\"]]}"
      ],
      "metadata": {
        "colab": {
          "base_uri": "https://localhost:8080/"
        },
        "id": "btoJMXoL06oz",
        "outputId": "ce0048ac-1df1-4fd1-8735-b84cce31954e"
      },
      "execution_count": null,
      "outputs": [
        {
          "output_type": "execute_result",
          "data": {
            "text/plain": [
              "{'Database': ['Pubmed', 3, ['RNA', 'DNA']]}"
            ]
          },
          "metadata": {},
          "execution_count": 4
        }
      ]
    },
    {
      "cell_type": "code",
      "source": [
        "job_type_skills = {\n",
        "    \"Database\": \"Pubmed\",\n",
        "    \"Language\": \"Python\",\n",
        "    \"Library\": \"Pandas\"\n",
        "    }"
      ],
      "metadata": {
        "id": "Tyrudv5r1OrY"
      },
      "execution_count": null,
      "outputs": []
    },
    {
      "cell_type": "code",
      "source": [
        "job_type_skills"
      ],
      "metadata": {
        "colab": {
          "base_uri": "https://localhost:8080/"
        },
        "id": "FIfTB5Fx1r1h",
        "outputId": "ec40ea2c-96d0-4742-a4ad-4a4fb48c149f"
      },
      "execution_count": null,
      "outputs": [
        {
          "output_type": "execute_result",
          "data": {
            "text/plain": [
              "{'Database': 'Pubmed', 'Language': 'Python', 'Library': 'Pandas'}"
            ]
          },
          "metadata": {},
          "execution_count": 6
        }
      ]
    },
    {
      "cell_type": "code",
      "source": [
        "job_type_skills[\"Library\"]"
      ],
      "metadata": {
        "colab": {
          "base_uri": "https://localhost:8080/",
          "height": 35
        },
        "id": "kcp-GqJf2xTG",
        "outputId": "0828a053-64b2-4db2-c7fd-3584a6183d74"
      },
      "execution_count": null,
      "outputs": [
        {
          "output_type": "execute_result",
          "data": {
            "text/plain": [
              "'Pandas'"
            ],
            "application/vnd.google.colaboratory.intrinsic+json": {
              "type": "string"
            }
          },
          "metadata": {},
          "execution_count": 7
        }
      ]
    },
    {
      "cell_type": "code",
      "source": [
        "job_type_skills.keys()"
      ],
      "metadata": {
        "colab": {
          "base_uri": "https://localhost:8080/"
        },
        "id": "P4lB3OxG2-Gn",
        "outputId": "da9dd7d1-97f2-4b0a-b681-8cd9454a9705"
      },
      "execution_count": null,
      "outputs": [
        {
          "output_type": "execute_result",
          "data": {
            "text/plain": [
              "dict_keys(['Database', 'Language', 'Library'])"
            ]
          },
          "metadata": {},
          "execution_count": 9
        }
      ]
    },
    {
      "cell_type": "code",
      "source": [
        "job_type_skills.values()"
      ],
      "metadata": {
        "colab": {
          "base_uri": "https://localhost:8080/"
        },
        "id": "h7db9h8o3Nnd",
        "outputId": "eedd5e11-e159-42cb-cd07-3c90acc9afd6"
      },
      "execution_count": null,
      "outputs": [
        {
          "output_type": "execute_result",
          "data": {
            "text/plain": [
              "dict_values(['Pubmed', 'Python', 'Pandas'])"
            ]
          },
          "metadata": {},
          "execution_count": 10
        }
      ]
    },
    {
      "cell_type": "code",
      "source": [
        "job_type_skills.pop(\"Library\")\n",
        "job_type_skills"
      ],
      "metadata": {
        "colab": {
          "base_uri": "https://localhost:8080/"
        },
        "id": "yriGNoUN3lfu",
        "outputId": "1877de25-2047-47c9-88da-9bde2fdc6f76"
      },
      "execution_count": null,
      "outputs": [
        {
          "output_type": "execute_result",
          "data": {
            "text/plain": [
              "{'Database': 'Pubmed', 'Language': 'Python'}"
            ]
          },
          "metadata": {},
          "execution_count": 11
        }
      ]
    },
    {
      "cell_type": "code",
      "source": [
        "job_type_skills.update({\"Cloud\": \"Google Cloud\"})\n",
        "job_type_skills"
      ],
      "metadata": {
        "colab": {
          "base_uri": "https://localhost:8080/"
        },
        "id": "4kVDuDls4AZA",
        "outputId": "4d1cad96-e8e0-44da-c576-8f333092640b"
      },
      "execution_count": null,
      "outputs": [
        {
          "output_type": "execute_result",
          "data": {
            "text/plain": [
              "{'Database': 'Pubmed', 'Language': 'Python', 'Cloud': 'Google Cloud'}"
            ]
          },
          "metadata": {},
          "execution_count": 12
        }
      ]
    },
    {
      "cell_type": "code",
      "source": [
        "job_type_skills[\"version_control\"] = \"git\"\n",
        "job_type_skills"
      ],
      "metadata": {
        "colab": {
          "base_uri": "https://localhost:8080/"
        },
        "id": "bo_bHolT4qv2",
        "outputId": "321e5e38-54b6-4023-b696-73b9728cbac6"
      },
      "execution_count": null,
      "outputs": [
        {
          "output_type": "execute_result",
          "data": {
            "text/plain": [
              "{'Database': 'Pubmed',\n",
              " 'Language': 'Python',\n",
              " 'Cloud': 'Google Cloud',\n",
              " 'version_control': 'git'}"
            ]
          },
          "metadata": {},
          "execution_count": 13
        }
      ]
    }
  ]
}