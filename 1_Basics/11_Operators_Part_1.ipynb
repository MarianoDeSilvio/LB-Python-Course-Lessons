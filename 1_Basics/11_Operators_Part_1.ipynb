{
  "nbformat": 4,
  "nbformat_minor": 0,
  "metadata": {
    "colab": {
      "provenance": []
    },
    "kernelspec": {
      "name": "python3",
      "display_name": "Python 3"
    },
    "language_info": {
      "name": "python"
    }
  },
  "cells": [
    {
      "cell_type": "code",
      "execution_count": null,
      "metadata": {
        "id": "UVci2gFboZ0L",
        "colab": {
          "base_uri": "https://localhost:8080/"
        },
        "outputId": "8feb7a0a-d808-4d1b-c28a-7757e258d61d"
      },
      "outputs": [
        {
          "output_type": "execute_result",
          "data": {
            "text/plain": [
              "5.0"
            ]
          },
          "metadata": {},
          "execution_count": 1
        }
      ],
      "source": [
        "#Addition\n",
        "2 + 3.0"
      ]
    },
    {
      "cell_type": "code",
      "source": [
        "#Addition with strings\n",
        "\"What's \" + \"Up\" + \"!\""
      ],
      "metadata": {
        "colab": {
          "base_uri": "https://localhost:8080/",
          "height": 35
        },
        "id": "BVuCAIcHos-9",
        "outputId": "caa185b4-0778-4374-aa70-5da3f47ba18a"
      },
      "execution_count": null,
      "outputs": [
        {
          "output_type": "execute_result",
          "data": {
            "text/plain": [
              "\"What's Up!\""
            ],
            "application/vnd.google.colaboratory.intrinsic+json": {
              "type": "string"
            }
          },
          "metadata": {},
          "execution_count": 3
        }
      ]
    },
    {
      "cell_type": "code",
      "source": [
        "#Multiplication with strings\n",
        "\"What's Up? \" * 10"
      ],
      "metadata": {
        "colab": {
          "base_uri": "https://localhost:8080/",
          "height": 35
        },
        "id": "4SweGo0Io1vx",
        "outputId": "0e85910f-e551-4e3f-d99d-2a45f8209178"
      },
      "execution_count": null,
      "outputs": [
        {
          "output_type": "execute_result",
          "data": {
            "text/plain": [
              "\"What's Up? What's Up? What's Up? What's Up? What's Up? What's Up? What's Up? What's Up? What's Up? What's Up? \""
            ],
            "application/vnd.google.colaboratory.intrinsic+json": {
              "type": "string"
            }
          },
          "metadata": {},
          "execution_count": 4
        }
      ]
    },
    {
      "cell_type": "code",
      "source": [
        "#Subtraction with numbers\n",
        "5 - 2.0"
      ],
      "metadata": {
        "colab": {
          "base_uri": "https://localhost:8080/"
        },
        "id": "ScsxSZKto-kX",
        "outputId": "ead43e4a-107d-4818-fe26-8f0fc917c52f"
      },
      "execution_count": null,
      "outputs": [
        {
          "output_type": "execute_result",
          "data": {
            "text/plain": [
              "3.0"
            ]
          },
          "metadata": {},
          "execution_count": 5
        }
      ]
    },
    {
      "cell_type": "code",
      "source": [
        "#Less common operators: Floor division to keep in integer\n",
        "5 // 2"
      ],
      "metadata": {
        "colab": {
          "base_uri": "https://localhost:8080/"
        },
        "id": "EyDCmVZGpGIj",
        "outputId": "3c6a2870-bc6a-494f-e9c5-b9d856f037d8"
      },
      "execution_count": null,
      "outputs": [
        {
          "output_type": "execute_result",
          "data": {
            "text/plain": [
              "2"
            ]
          },
          "metadata": {},
          "execution_count": 6
        }
      ]
    },
    {
      "cell_type": "code",
      "source": [
        "#Get the remainder\n",
        "5 % 2"
      ],
      "metadata": {
        "colab": {
          "base_uri": "https://localhost:8080/"
        },
        "id": "Y61G7CcKrpK4",
        "outputId": "bfc48cc2-bb04-4508-d749-861365d9a0bd"
      },
      "execution_count": null,
      "outputs": [
        {
          "output_type": "execute_result",
          "data": {
            "text/plain": [
              "1"
            ]
          },
          "metadata": {},
          "execution_count": 7
        }
      ]
    },
    {
      "cell_type": "code",
      "source": [
        "min_salary = 20_000 # _ is ignored by Python\n",
        "max_salary = 80_000\n",
        "\n",
        "avg_salary = (min_salary + max_salary) / 2\n",
        "print(avg_salary)"
      ],
      "metadata": {
        "colab": {
          "base_uri": "https://localhost:8080/"
        },
        "id": "W2a-ixyKsUlB",
        "outputId": "7c226627-198d-4eca-ceee-f554e7e212f1"
      },
      "execution_count": null,
      "outputs": [
        {
          "output_type": "stream",
          "name": "stdout",
          "text": [
            "50000.0\n"
          ]
        }
      ]
    },
    {
      "cell_type": "code",
      "source": [
        "applicant_1 = \"Kelly\"\n",
        "applicant_2 = \"Luke\""
      ],
      "metadata": {
        "id": "VSoOcDVDuJaE"
      },
      "execution_count": null,
      "outputs": []
    },
    {
      "cell_type": "code",
      "source": [
        "#To swap the variables you can do this\n",
        "applicant_1, applicant_2 = applicant_2, applicant_1\n",
        "print(\"Applicant_1 now -> \", applicant_1, \"Applicant_2 now -> \", applicant_2,)"
      ],
      "metadata": {
        "colab": {
          "base_uri": "https://localhost:8080/"
        },
        "id": "KCINzNCauRER",
        "outputId": "ab3d45db-e1a5-4521-b95b-6347049f5027"
      },
      "execution_count": null,
      "outputs": [
        {
          "output_type": "stream",
          "name": "stdout",
          "text": [
            "Applicant_1 now ->  Luke Applicant_2 now ->  Kelly\n"
          ]
        }
      ]
    },
    {
      "cell_type": "code",
      "source": [
        "x = 2\n",
        "x += 1 # same as \"x = x + 1\"\n",
        "print (x)"
      ],
      "metadata": {
        "colab": {
          "base_uri": "https://localhost:8080/"
        },
        "id": "JNUrQ8D9uYk1",
        "outputId": "66c975c9-d347-408d-8ac1-d3efb5d1e10f"
      },
      "execution_count": null,
      "outputs": [
        {
          "output_type": "stream",
          "name": "stdout",
          "text": [
            "3\n"
          ]
        }
      ]
    }
  ]
}