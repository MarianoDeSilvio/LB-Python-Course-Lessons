{
  "nbformat": 4,
  "nbformat_minor": 0,
  "metadata": {
    "colab": {
      "provenance": []
    },
    "kernelspec": {
      "name": "python3",
      "display_name": "Python 3"
    },
    "language_info": {
      "name": "python"
    },
    "widgets": {
      "application/vnd.jupyter.widget-state+json": {
        "cae74fd120fe43af921dd10a19135d0a": {
          "model_module": "@jupyter-widgets/controls",
          "model_name": "HBoxModel",
          "model_module_version": "1.5.0",
          "state": {
            "_dom_classes": [],
            "_model_module": "@jupyter-widgets/controls",
            "_model_module_version": "1.5.0",
            "_model_name": "HBoxModel",
            "_view_count": null,
            "_view_module": "@jupyter-widgets/controls",
            "_view_module_version": "1.5.0",
            "_view_name": "HBoxView",
            "box_style": "",
            "children": [
              "IPY_MODEL_794dd961924e4d8c806b28ab735c20bb",
              "IPY_MODEL_a5f8422c4b3f48b4a3ab274582fd7824",
              "IPY_MODEL_6ca5e959c0a24467a2c9fd5f2e1a03a8"
            ],
            "layout": "IPY_MODEL_0e609596757746e683ae5caba1c9dcfd"
          }
        },
        "794dd961924e4d8c806b28ab735c20bb": {
          "model_module": "@jupyter-widgets/controls",
          "model_name": "HTMLModel",
          "model_module_version": "1.5.0",
          "state": {
            "_dom_classes": [],
            "_model_module": "@jupyter-widgets/controls",
            "_model_module_version": "1.5.0",
            "_model_name": "HTMLModel",
            "_view_count": null,
            "_view_module": "@jupyter-widgets/controls",
            "_view_module_version": "1.5.0",
            "_view_name": "HTMLView",
            "description": "",
            "description_tooltip": null,
            "layout": "IPY_MODEL_cf14e8bec69e4dc5a9d691a3a5d81841",
            "placeholder": "​",
            "style": "IPY_MODEL_e025d55f99fe48e8acb2949c1b2762a4",
            "value": "README.md: "
          }
        },
        "a5f8422c4b3f48b4a3ab274582fd7824": {
          "model_module": "@jupyter-widgets/controls",
          "model_name": "FloatProgressModel",
          "model_module_version": "1.5.0",
          "state": {
            "_dom_classes": [],
            "_model_module": "@jupyter-widgets/controls",
            "_model_module_version": "1.5.0",
            "_model_name": "FloatProgressModel",
            "_view_count": null,
            "_view_module": "@jupyter-widgets/controls",
            "_view_module_version": "1.5.0",
            "_view_name": "ProgressView",
            "bar_style": "success",
            "description": "",
            "description_tooltip": null,
            "layout": "IPY_MODEL_0b35a34e4ab340319b3a0769d4a5d91d",
            "max": 1,
            "min": 0,
            "orientation": "horizontal",
            "style": "IPY_MODEL_06c7a8904e6b48aa84709e998bef5504",
            "value": 1
          }
        },
        "6ca5e959c0a24467a2c9fd5f2e1a03a8": {
          "model_module": "@jupyter-widgets/controls",
          "model_name": "HTMLModel",
          "model_module_version": "1.5.0",
          "state": {
            "_dom_classes": [],
            "_model_module": "@jupyter-widgets/controls",
            "_model_module_version": "1.5.0",
            "_model_name": "HTMLModel",
            "_view_count": null,
            "_view_module": "@jupyter-widgets/controls",
            "_view_module_version": "1.5.0",
            "_view_name": "HTMLView",
            "description": "",
            "description_tooltip": null,
            "layout": "IPY_MODEL_9988e1e5908c4b108f300d308b54e116",
            "placeholder": "​",
            "style": "IPY_MODEL_21de277bd7b14641a1ee281226c87c8c",
            "value": " 3.25k/? [00:00&lt;00:00, 48.9kB/s]"
          }
        },
        "0e609596757746e683ae5caba1c9dcfd": {
          "model_module": "@jupyter-widgets/base",
          "model_name": "LayoutModel",
          "model_module_version": "1.2.0",
          "state": {
            "_model_module": "@jupyter-widgets/base",
            "_model_module_version": "1.2.0",
            "_model_name": "LayoutModel",
            "_view_count": null,
            "_view_module": "@jupyter-widgets/base",
            "_view_module_version": "1.2.0",
            "_view_name": "LayoutView",
            "align_content": null,
            "align_items": null,
            "align_self": null,
            "border": null,
            "bottom": null,
            "display": null,
            "flex": null,
            "flex_flow": null,
            "grid_area": null,
            "grid_auto_columns": null,
            "grid_auto_flow": null,
            "grid_auto_rows": null,
            "grid_column": null,
            "grid_gap": null,
            "grid_row": null,
            "grid_template_areas": null,
            "grid_template_columns": null,
            "grid_template_rows": null,
            "height": null,
            "justify_content": null,
            "justify_items": null,
            "left": null,
            "margin": null,
            "max_height": null,
            "max_width": null,
            "min_height": null,
            "min_width": null,
            "object_fit": null,
            "object_position": null,
            "order": null,
            "overflow": null,
            "overflow_x": null,
            "overflow_y": null,
            "padding": null,
            "right": null,
            "top": null,
            "visibility": null,
            "width": null
          }
        },
        "cf14e8bec69e4dc5a9d691a3a5d81841": {
          "model_module": "@jupyter-widgets/base",
          "model_name": "LayoutModel",
          "model_module_version": "1.2.0",
          "state": {
            "_model_module": "@jupyter-widgets/base",
            "_model_module_version": "1.2.0",
            "_model_name": "LayoutModel",
            "_view_count": null,
            "_view_module": "@jupyter-widgets/base",
            "_view_module_version": "1.2.0",
            "_view_name": "LayoutView",
            "align_content": null,
            "align_items": null,
            "align_self": null,
            "border": null,
            "bottom": null,
            "display": null,
            "flex": null,
            "flex_flow": null,
            "grid_area": null,
            "grid_auto_columns": null,
            "grid_auto_flow": null,
            "grid_auto_rows": null,
            "grid_column": null,
            "grid_gap": null,
            "grid_row": null,
            "grid_template_areas": null,
            "grid_template_columns": null,
            "grid_template_rows": null,
            "height": null,
            "justify_content": null,
            "justify_items": null,
            "left": null,
            "margin": null,
            "max_height": null,
            "max_width": null,
            "min_height": null,
            "min_width": null,
            "object_fit": null,
            "object_position": null,
            "order": null,
            "overflow": null,
            "overflow_x": null,
            "overflow_y": null,
            "padding": null,
            "right": null,
            "top": null,
            "visibility": null,
            "width": null
          }
        },
        "e025d55f99fe48e8acb2949c1b2762a4": {
          "model_module": "@jupyter-widgets/controls",
          "model_name": "DescriptionStyleModel",
          "model_module_version": "1.5.0",
          "state": {
            "_model_module": "@jupyter-widgets/controls",
            "_model_module_version": "1.5.0",
            "_model_name": "DescriptionStyleModel",
            "_view_count": null,
            "_view_module": "@jupyter-widgets/base",
            "_view_module_version": "1.2.0",
            "_view_name": "StyleView",
            "description_width": ""
          }
        },
        "0b35a34e4ab340319b3a0769d4a5d91d": {
          "model_module": "@jupyter-widgets/base",
          "model_name": "LayoutModel",
          "model_module_version": "1.2.0",
          "state": {
            "_model_module": "@jupyter-widgets/base",
            "_model_module_version": "1.2.0",
            "_model_name": "LayoutModel",
            "_view_count": null,
            "_view_module": "@jupyter-widgets/base",
            "_view_module_version": "1.2.0",
            "_view_name": "LayoutView",
            "align_content": null,
            "align_items": null,
            "align_self": null,
            "border": null,
            "bottom": null,
            "display": null,
            "flex": null,
            "flex_flow": null,
            "grid_area": null,
            "grid_auto_columns": null,
            "grid_auto_flow": null,
            "grid_auto_rows": null,
            "grid_column": null,
            "grid_gap": null,
            "grid_row": null,
            "grid_template_areas": null,
            "grid_template_columns": null,
            "grid_template_rows": null,
            "height": null,
            "justify_content": null,
            "justify_items": null,
            "left": null,
            "margin": null,
            "max_height": null,
            "max_width": null,
            "min_height": null,
            "min_width": null,
            "object_fit": null,
            "object_position": null,
            "order": null,
            "overflow": null,
            "overflow_x": null,
            "overflow_y": null,
            "padding": null,
            "right": null,
            "top": null,
            "visibility": null,
            "width": "20px"
          }
        },
        "06c7a8904e6b48aa84709e998bef5504": {
          "model_module": "@jupyter-widgets/controls",
          "model_name": "ProgressStyleModel",
          "model_module_version": "1.5.0",
          "state": {
            "_model_module": "@jupyter-widgets/controls",
            "_model_module_version": "1.5.0",
            "_model_name": "ProgressStyleModel",
            "_view_count": null,
            "_view_module": "@jupyter-widgets/base",
            "_view_module_version": "1.2.0",
            "_view_name": "StyleView",
            "bar_color": null,
            "description_width": ""
          }
        },
        "9988e1e5908c4b108f300d308b54e116": {
          "model_module": "@jupyter-widgets/base",
          "model_name": "LayoutModel",
          "model_module_version": "1.2.0",
          "state": {
            "_model_module": "@jupyter-widgets/base",
            "_model_module_version": "1.2.0",
            "_model_name": "LayoutModel",
            "_view_count": null,
            "_view_module": "@jupyter-widgets/base",
            "_view_module_version": "1.2.0",
            "_view_name": "LayoutView",
            "align_content": null,
            "align_items": null,
            "align_self": null,
            "border": null,
            "bottom": null,
            "display": null,
            "flex": null,
            "flex_flow": null,
            "grid_area": null,
            "grid_auto_columns": null,
            "grid_auto_flow": null,
            "grid_auto_rows": null,
            "grid_column": null,
            "grid_gap": null,
            "grid_row": null,
            "grid_template_areas": null,
            "grid_template_columns": null,
            "grid_template_rows": null,
            "height": null,
            "justify_content": null,
            "justify_items": null,
            "left": null,
            "margin": null,
            "max_height": null,
            "max_width": null,
            "min_height": null,
            "min_width": null,
            "object_fit": null,
            "object_position": null,
            "order": null,
            "overflow": null,
            "overflow_x": null,
            "overflow_y": null,
            "padding": null,
            "right": null,
            "top": null,
            "visibility": null,
            "width": null
          }
        },
        "21de277bd7b14641a1ee281226c87c8c": {
          "model_module": "@jupyter-widgets/controls",
          "model_name": "DescriptionStyleModel",
          "model_module_version": "1.5.0",
          "state": {
            "_model_module": "@jupyter-widgets/controls",
            "_model_module_version": "1.5.0",
            "_model_name": "DescriptionStyleModel",
            "_view_count": null,
            "_view_module": "@jupyter-widgets/base",
            "_view_module_version": "1.2.0",
            "_view_name": "StyleView",
            "description_width": ""
          }
        },
        "6b5cccf92445407f8802775fa696f338": {
          "model_module": "@jupyter-widgets/controls",
          "model_name": "HBoxModel",
          "model_module_version": "1.5.0",
          "state": {
            "_dom_classes": [],
            "_model_module": "@jupyter-widgets/controls",
            "_model_module_version": "1.5.0",
            "_model_name": "HBoxModel",
            "_view_count": null,
            "_view_module": "@jupyter-widgets/controls",
            "_view_module_version": "1.5.0",
            "_view_name": "HBoxView",
            "box_style": "",
            "children": [
              "IPY_MODEL_f9af30b5a72e400b9d59e0a28bb928c2",
              "IPY_MODEL_5a6f20d5fcf24c048abd2b8a63566409",
              "IPY_MODEL_1e0b83af4b214a4d8db786883e52cf19"
            ],
            "layout": "IPY_MODEL_8d12cfcc3fbf4b289f84bcd304371235"
          }
        },
        "f9af30b5a72e400b9d59e0a28bb928c2": {
          "model_module": "@jupyter-widgets/controls",
          "model_name": "HTMLModel",
          "model_module_version": "1.5.0",
          "state": {
            "_dom_classes": [],
            "_model_module": "@jupyter-widgets/controls",
            "_model_module_version": "1.5.0",
            "_model_name": "HTMLModel",
            "_view_count": null,
            "_view_module": "@jupyter-widgets/controls",
            "_view_module_version": "1.5.0",
            "_view_name": "HTMLView",
            "description": "",
            "description_tooltip": null,
            "layout": "IPY_MODEL_630a1c559d064b3ba0ed649b308f8867",
            "placeholder": "​",
            "style": "IPY_MODEL_eaf85044be00433fbdaeeef675e89c67",
            "value": "data_jobs.csv: 100%"
          }
        },
        "5a6f20d5fcf24c048abd2b8a63566409": {
          "model_module": "@jupyter-widgets/controls",
          "model_name": "FloatProgressModel",
          "model_module_version": "1.5.0",
          "state": {
            "_dom_classes": [],
            "_model_module": "@jupyter-widgets/controls",
            "_model_module_version": "1.5.0",
            "_model_name": "FloatProgressModel",
            "_view_count": null,
            "_view_module": "@jupyter-widgets/controls",
            "_view_module_version": "1.5.0",
            "_view_name": "ProgressView",
            "bar_style": "success",
            "description": "",
            "description_tooltip": null,
            "layout": "IPY_MODEL_e5eca473b9774f43adbc4da6dbd68903",
            "max": 231152089,
            "min": 0,
            "orientation": "horizontal",
            "style": "IPY_MODEL_35c85e50d400454d87d2173438c309b9",
            "value": 231152089
          }
        },
        "1e0b83af4b214a4d8db786883e52cf19": {
          "model_module": "@jupyter-widgets/controls",
          "model_name": "HTMLModel",
          "model_module_version": "1.5.0",
          "state": {
            "_dom_classes": [],
            "_model_module": "@jupyter-widgets/controls",
            "_model_module_version": "1.5.0",
            "_model_name": "HTMLModel",
            "_view_count": null,
            "_view_module": "@jupyter-widgets/controls",
            "_view_module_version": "1.5.0",
            "_view_name": "HTMLView",
            "description": "",
            "description_tooltip": null,
            "layout": "IPY_MODEL_65530c9ec62b43539a05bd7af04af2d2",
            "placeholder": "​",
            "style": "IPY_MODEL_6be0570b75654ca4924f448078319819",
            "value": " 231M/231M [00:01&lt;00:00, 207MB/s]"
          }
        },
        "8d12cfcc3fbf4b289f84bcd304371235": {
          "model_module": "@jupyter-widgets/base",
          "model_name": "LayoutModel",
          "model_module_version": "1.2.0",
          "state": {
            "_model_module": "@jupyter-widgets/base",
            "_model_module_version": "1.2.0",
            "_model_name": "LayoutModel",
            "_view_count": null,
            "_view_module": "@jupyter-widgets/base",
            "_view_module_version": "1.2.0",
            "_view_name": "LayoutView",
            "align_content": null,
            "align_items": null,
            "align_self": null,
            "border": null,
            "bottom": null,
            "display": null,
            "flex": null,
            "flex_flow": null,
            "grid_area": null,
            "grid_auto_columns": null,
            "grid_auto_flow": null,
            "grid_auto_rows": null,
            "grid_column": null,
            "grid_gap": null,
            "grid_row": null,
            "grid_template_areas": null,
            "grid_template_columns": null,
            "grid_template_rows": null,
            "height": null,
            "justify_content": null,
            "justify_items": null,
            "left": null,
            "margin": null,
            "max_height": null,
            "max_width": null,
            "min_height": null,
            "min_width": null,
            "object_fit": null,
            "object_position": null,
            "order": null,
            "overflow": null,
            "overflow_x": null,
            "overflow_y": null,
            "padding": null,
            "right": null,
            "top": null,
            "visibility": null,
            "width": null
          }
        },
        "630a1c559d064b3ba0ed649b308f8867": {
          "model_module": "@jupyter-widgets/base",
          "model_name": "LayoutModel",
          "model_module_version": "1.2.0",
          "state": {
            "_model_module": "@jupyter-widgets/base",
            "_model_module_version": "1.2.0",
            "_model_name": "LayoutModel",
            "_view_count": null,
            "_view_module": "@jupyter-widgets/base",
            "_view_module_version": "1.2.0",
            "_view_name": "LayoutView",
            "align_content": null,
            "align_items": null,
            "align_self": null,
            "border": null,
            "bottom": null,
            "display": null,
            "flex": null,
            "flex_flow": null,
            "grid_area": null,
            "grid_auto_columns": null,
            "grid_auto_flow": null,
            "grid_auto_rows": null,
            "grid_column": null,
            "grid_gap": null,
            "grid_row": null,
            "grid_template_areas": null,
            "grid_template_columns": null,
            "grid_template_rows": null,
            "height": null,
            "justify_content": null,
            "justify_items": null,
            "left": null,
            "margin": null,
            "max_height": null,
            "max_width": null,
            "min_height": null,
            "min_width": null,
            "object_fit": null,
            "object_position": null,
            "order": null,
            "overflow": null,
            "overflow_x": null,
            "overflow_y": null,
            "padding": null,
            "right": null,
            "top": null,
            "visibility": null,
            "width": null
          }
        },
        "eaf85044be00433fbdaeeef675e89c67": {
          "model_module": "@jupyter-widgets/controls",
          "model_name": "DescriptionStyleModel",
          "model_module_version": "1.5.0",
          "state": {
            "_model_module": "@jupyter-widgets/controls",
            "_model_module_version": "1.5.0",
            "_model_name": "DescriptionStyleModel",
            "_view_count": null,
            "_view_module": "@jupyter-widgets/base",
            "_view_module_version": "1.2.0",
            "_view_name": "StyleView",
            "description_width": ""
          }
        },
        "e5eca473b9774f43adbc4da6dbd68903": {
          "model_module": "@jupyter-widgets/base",
          "model_name": "LayoutModel",
          "model_module_version": "1.2.0",
          "state": {
            "_model_module": "@jupyter-widgets/base",
            "_model_module_version": "1.2.0",
            "_model_name": "LayoutModel",
            "_view_count": null,
            "_view_module": "@jupyter-widgets/base",
            "_view_module_version": "1.2.0",
            "_view_name": "LayoutView",
            "align_content": null,
            "align_items": null,
            "align_self": null,
            "border": null,
            "bottom": null,
            "display": null,
            "flex": null,
            "flex_flow": null,
            "grid_area": null,
            "grid_auto_columns": null,
            "grid_auto_flow": null,
            "grid_auto_rows": null,
            "grid_column": null,
            "grid_gap": null,
            "grid_row": null,
            "grid_template_areas": null,
            "grid_template_columns": null,
            "grid_template_rows": null,
            "height": null,
            "justify_content": null,
            "justify_items": null,
            "left": null,
            "margin": null,
            "max_height": null,
            "max_width": null,
            "min_height": null,
            "min_width": null,
            "object_fit": null,
            "object_position": null,
            "order": null,
            "overflow": null,
            "overflow_x": null,
            "overflow_y": null,
            "padding": null,
            "right": null,
            "top": null,
            "visibility": null,
            "width": null
          }
        },
        "35c85e50d400454d87d2173438c309b9": {
          "model_module": "@jupyter-widgets/controls",
          "model_name": "ProgressStyleModel",
          "model_module_version": "1.5.0",
          "state": {
            "_model_module": "@jupyter-widgets/controls",
            "_model_module_version": "1.5.0",
            "_model_name": "ProgressStyleModel",
            "_view_count": null,
            "_view_module": "@jupyter-widgets/base",
            "_view_module_version": "1.2.0",
            "_view_name": "StyleView",
            "bar_color": null,
            "description_width": ""
          }
        },
        "65530c9ec62b43539a05bd7af04af2d2": {
          "model_module": "@jupyter-widgets/base",
          "model_name": "LayoutModel",
          "model_module_version": "1.2.0",
          "state": {
            "_model_module": "@jupyter-widgets/base",
            "_model_module_version": "1.2.0",
            "_model_name": "LayoutModel",
            "_view_count": null,
            "_view_module": "@jupyter-widgets/base",
            "_view_module_version": "1.2.0",
            "_view_name": "LayoutView",
            "align_content": null,
            "align_items": null,
            "align_self": null,
            "border": null,
            "bottom": null,
            "display": null,
            "flex": null,
            "flex_flow": null,
            "grid_area": null,
            "grid_auto_columns": null,
            "grid_auto_flow": null,
            "grid_auto_rows": null,
            "grid_column": null,
            "grid_gap": null,
            "grid_row": null,
            "grid_template_areas": null,
            "grid_template_columns": null,
            "grid_template_rows": null,
            "height": null,
            "justify_content": null,
            "justify_items": null,
            "left": null,
            "margin": null,
            "max_height": null,
            "max_width": null,
            "min_height": null,
            "min_width": null,
            "object_fit": null,
            "object_position": null,
            "order": null,
            "overflow": null,
            "overflow_x": null,
            "overflow_y": null,
            "padding": null,
            "right": null,
            "top": null,
            "visibility": null,
            "width": null
          }
        },
        "6be0570b75654ca4924f448078319819": {
          "model_module": "@jupyter-widgets/controls",
          "model_name": "DescriptionStyleModel",
          "model_module_version": "1.5.0",
          "state": {
            "_model_module": "@jupyter-widgets/controls",
            "_model_module_version": "1.5.0",
            "_model_name": "DescriptionStyleModel",
            "_view_count": null,
            "_view_module": "@jupyter-widgets/base",
            "_view_module_version": "1.2.0",
            "_view_name": "StyleView",
            "description_width": ""
          }
        },
        "94d93f473caf47a29b956ccbeda82d77": {
          "model_module": "@jupyter-widgets/controls",
          "model_name": "HBoxModel",
          "model_module_version": "1.5.0",
          "state": {
            "_dom_classes": [],
            "_model_module": "@jupyter-widgets/controls",
            "_model_module_version": "1.5.0",
            "_model_name": "HBoxModel",
            "_view_count": null,
            "_view_module": "@jupyter-widgets/controls",
            "_view_module_version": "1.5.0",
            "_view_name": "HBoxView",
            "box_style": "",
            "children": [
              "IPY_MODEL_22ce6b53915c45b0a047b1e2afb7eb78",
              "IPY_MODEL_dc492669a29d47ee9ce63554db27118b",
              "IPY_MODEL_91141356cfbb4872be04ca3416cffb6a"
            ],
            "layout": "IPY_MODEL_d8bbc0c8e7434083aaa5d4478d188956"
          }
        },
        "22ce6b53915c45b0a047b1e2afb7eb78": {
          "model_module": "@jupyter-widgets/controls",
          "model_name": "HTMLModel",
          "model_module_version": "1.5.0",
          "state": {
            "_dom_classes": [],
            "_model_module": "@jupyter-widgets/controls",
            "_model_module_version": "1.5.0",
            "_model_name": "HTMLModel",
            "_view_count": null,
            "_view_module": "@jupyter-widgets/controls",
            "_view_module_version": "1.5.0",
            "_view_name": "HTMLView",
            "description": "",
            "description_tooltip": null,
            "layout": "IPY_MODEL_6a95905de4584334882969d2c6e7b950",
            "placeholder": "​",
            "style": "IPY_MODEL_e81be591e7804c4ebfbf14755226ef0c",
            "value": "Generating train split: 100%"
          }
        },
        "dc492669a29d47ee9ce63554db27118b": {
          "model_module": "@jupyter-widgets/controls",
          "model_name": "FloatProgressModel",
          "model_module_version": "1.5.0",
          "state": {
            "_dom_classes": [],
            "_model_module": "@jupyter-widgets/controls",
            "_model_module_version": "1.5.0",
            "_model_name": "FloatProgressModel",
            "_view_count": null,
            "_view_module": "@jupyter-widgets/controls",
            "_view_module_version": "1.5.0",
            "_view_name": "ProgressView",
            "bar_style": "success",
            "description": "",
            "description_tooltip": null,
            "layout": "IPY_MODEL_1cd5be1c1bef4120827606c0bfd393e9",
            "max": 785741,
            "min": 0,
            "orientation": "horizontal",
            "style": "IPY_MODEL_7c4842e6c7ce406f9bdf32ff85ea7a7a",
            "value": 785741
          }
        },
        "91141356cfbb4872be04ca3416cffb6a": {
          "model_module": "@jupyter-widgets/controls",
          "model_name": "HTMLModel",
          "model_module_version": "1.5.0",
          "state": {
            "_dom_classes": [],
            "_model_module": "@jupyter-widgets/controls",
            "_model_module_version": "1.5.0",
            "_model_name": "HTMLModel",
            "_view_count": null,
            "_view_module": "@jupyter-widgets/controls",
            "_view_module_version": "1.5.0",
            "_view_name": "HTMLView",
            "description": "",
            "description_tooltip": null,
            "layout": "IPY_MODEL_c237c2071152492083dfe36565a16234",
            "placeholder": "​",
            "style": "IPY_MODEL_b4ea6dc0a88748faa72dfddbbe11fd2e",
            "value": " 785741/785741 [00:05&lt;00:00, 149251.49 examples/s]"
          }
        },
        "d8bbc0c8e7434083aaa5d4478d188956": {
          "model_module": "@jupyter-widgets/base",
          "model_name": "LayoutModel",
          "model_module_version": "1.2.0",
          "state": {
            "_model_module": "@jupyter-widgets/base",
            "_model_module_version": "1.2.0",
            "_model_name": "LayoutModel",
            "_view_count": null,
            "_view_module": "@jupyter-widgets/base",
            "_view_module_version": "1.2.0",
            "_view_name": "LayoutView",
            "align_content": null,
            "align_items": null,
            "align_self": null,
            "border": null,
            "bottom": null,
            "display": null,
            "flex": null,
            "flex_flow": null,
            "grid_area": null,
            "grid_auto_columns": null,
            "grid_auto_flow": null,
            "grid_auto_rows": null,
            "grid_column": null,
            "grid_gap": null,
            "grid_row": null,
            "grid_template_areas": null,
            "grid_template_columns": null,
            "grid_template_rows": null,
            "height": null,
            "justify_content": null,
            "justify_items": null,
            "left": null,
            "margin": null,
            "max_height": null,
            "max_width": null,
            "min_height": null,
            "min_width": null,
            "object_fit": null,
            "object_position": null,
            "order": null,
            "overflow": null,
            "overflow_x": null,
            "overflow_y": null,
            "padding": null,
            "right": null,
            "top": null,
            "visibility": null,
            "width": null
          }
        },
        "6a95905de4584334882969d2c6e7b950": {
          "model_module": "@jupyter-widgets/base",
          "model_name": "LayoutModel",
          "model_module_version": "1.2.0",
          "state": {
            "_model_module": "@jupyter-widgets/base",
            "_model_module_version": "1.2.0",
            "_model_name": "LayoutModel",
            "_view_count": null,
            "_view_module": "@jupyter-widgets/base",
            "_view_module_version": "1.2.0",
            "_view_name": "LayoutView",
            "align_content": null,
            "align_items": null,
            "align_self": null,
            "border": null,
            "bottom": null,
            "display": null,
            "flex": null,
            "flex_flow": null,
            "grid_area": null,
            "grid_auto_columns": null,
            "grid_auto_flow": null,
            "grid_auto_rows": null,
            "grid_column": null,
            "grid_gap": null,
            "grid_row": null,
            "grid_template_areas": null,
            "grid_template_columns": null,
            "grid_template_rows": null,
            "height": null,
            "justify_content": null,
            "justify_items": null,
            "left": null,
            "margin": null,
            "max_height": null,
            "max_width": null,
            "min_height": null,
            "min_width": null,
            "object_fit": null,
            "object_position": null,
            "order": null,
            "overflow": null,
            "overflow_x": null,
            "overflow_y": null,
            "padding": null,
            "right": null,
            "top": null,
            "visibility": null,
            "width": null
          }
        },
        "e81be591e7804c4ebfbf14755226ef0c": {
          "model_module": "@jupyter-widgets/controls",
          "model_name": "DescriptionStyleModel",
          "model_module_version": "1.5.0",
          "state": {
            "_model_module": "@jupyter-widgets/controls",
            "_model_module_version": "1.5.0",
            "_model_name": "DescriptionStyleModel",
            "_view_count": null,
            "_view_module": "@jupyter-widgets/base",
            "_view_module_version": "1.2.0",
            "_view_name": "StyleView",
            "description_width": ""
          }
        },
        "1cd5be1c1bef4120827606c0bfd393e9": {
          "model_module": "@jupyter-widgets/base",
          "model_name": "LayoutModel",
          "model_module_version": "1.2.0",
          "state": {
            "_model_module": "@jupyter-widgets/base",
            "_model_module_version": "1.2.0",
            "_model_name": "LayoutModel",
            "_view_count": null,
            "_view_module": "@jupyter-widgets/base",
            "_view_module_version": "1.2.0",
            "_view_name": "LayoutView",
            "align_content": null,
            "align_items": null,
            "align_self": null,
            "border": null,
            "bottom": null,
            "display": null,
            "flex": null,
            "flex_flow": null,
            "grid_area": null,
            "grid_auto_columns": null,
            "grid_auto_flow": null,
            "grid_auto_rows": null,
            "grid_column": null,
            "grid_gap": null,
            "grid_row": null,
            "grid_template_areas": null,
            "grid_template_columns": null,
            "grid_template_rows": null,
            "height": null,
            "justify_content": null,
            "justify_items": null,
            "left": null,
            "margin": null,
            "max_height": null,
            "max_width": null,
            "min_height": null,
            "min_width": null,
            "object_fit": null,
            "object_position": null,
            "order": null,
            "overflow": null,
            "overflow_x": null,
            "overflow_y": null,
            "padding": null,
            "right": null,
            "top": null,
            "visibility": null,
            "width": null
          }
        },
        "7c4842e6c7ce406f9bdf32ff85ea7a7a": {
          "model_module": "@jupyter-widgets/controls",
          "model_name": "ProgressStyleModel",
          "model_module_version": "1.5.0",
          "state": {
            "_model_module": "@jupyter-widgets/controls",
            "_model_module_version": "1.5.0",
            "_model_name": "ProgressStyleModel",
            "_view_count": null,
            "_view_module": "@jupyter-widgets/base",
            "_view_module_version": "1.2.0",
            "_view_name": "StyleView",
            "bar_color": null,
            "description_width": ""
          }
        },
        "c237c2071152492083dfe36565a16234": {
          "model_module": "@jupyter-widgets/base",
          "model_name": "LayoutModel",
          "model_module_version": "1.2.0",
          "state": {
            "_model_module": "@jupyter-widgets/base",
            "_model_module_version": "1.2.0",
            "_model_name": "LayoutModel",
            "_view_count": null,
            "_view_module": "@jupyter-widgets/base",
            "_view_module_version": "1.2.0",
            "_view_name": "LayoutView",
            "align_content": null,
            "align_items": null,
            "align_self": null,
            "border": null,
            "bottom": null,
            "display": null,
            "flex": null,
            "flex_flow": null,
            "grid_area": null,
            "grid_auto_columns": null,
            "grid_auto_flow": null,
            "grid_auto_rows": null,
            "grid_column": null,
            "grid_gap": null,
            "grid_row": null,
            "grid_template_areas": null,
            "grid_template_columns": null,
            "grid_template_rows": null,
            "height": null,
            "justify_content": null,
            "justify_items": null,
            "left": null,
            "margin": null,
            "max_height": null,
            "max_width": null,
            "min_height": null,
            "min_width": null,
            "object_fit": null,
            "object_position": null,
            "order": null,
            "overflow": null,
            "overflow_x": null,
            "overflow_y": null,
            "padding": null,
            "right": null,
            "top": null,
            "visibility": null,
            "width": null
          }
        },
        "b4ea6dc0a88748faa72dfddbbe11fd2e": {
          "model_module": "@jupyter-widgets/controls",
          "model_name": "DescriptionStyleModel",
          "model_module_version": "1.5.0",
          "state": {
            "_model_module": "@jupyter-widgets/controls",
            "_model_module_version": "1.5.0",
            "_model_name": "DescriptionStyleModel",
            "_view_count": null,
            "_view_module": "@jupyter-widgets/base",
            "_view_module_version": "1.2.0",
            "_view_name": "StyleView",
            "description_width": ""
          }
        }
      }
    }
  },
  "cells": [
    {
      "cell_type": "code",
      "execution_count": null,
      "metadata": {
        "colab": {
          "base_uri": "https://localhost:8080/",
          "height": 217,
          "referenced_widgets": [
            "cae74fd120fe43af921dd10a19135d0a",
            "794dd961924e4d8c806b28ab735c20bb",
            "a5f8422c4b3f48b4a3ab274582fd7824",
            "6ca5e959c0a24467a2c9fd5f2e1a03a8",
            "0e609596757746e683ae5caba1c9dcfd",
            "cf14e8bec69e4dc5a9d691a3a5d81841",
            "e025d55f99fe48e8acb2949c1b2762a4",
            "0b35a34e4ab340319b3a0769d4a5d91d",
            "06c7a8904e6b48aa84709e998bef5504",
            "9988e1e5908c4b108f300d308b54e116",
            "21de277bd7b14641a1ee281226c87c8c",
            "6b5cccf92445407f8802775fa696f338",
            "f9af30b5a72e400b9d59e0a28bb928c2",
            "5a6f20d5fcf24c048abd2b8a63566409",
            "1e0b83af4b214a4d8db786883e52cf19",
            "8d12cfcc3fbf4b289f84bcd304371235",
            "630a1c559d064b3ba0ed649b308f8867",
            "eaf85044be00433fbdaeeef675e89c67",
            "e5eca473b9774f43adbc4da6dbd68903",
            "35c85e50d400454d87d2173438c309b9",
            "65530c9ec62b43539a05bd7af04af2d2",
            "6be0570b75654ca4924f448078319819",
            "94d93f473caf47a29b956ccbeda82d77",
            "22ce6b53915c45b0a047b1e2afb7eb78",
            "dc492669a29d47ee9ce63554db27118b",
            "91141356cfbb4872be04ca3416cffb6a",
            "d8bbc0c8e7434083aaa5d4478d188956",
            "6a95905de4584334882969d2c6e7b950",
            "e81be591e7804c4ebfbf14755226ef0c",
            "1cd5be1c1bef4120827606c0bfd393e9",
            "7c4842e6c7ce406f9bdf32ff85ea7a7a",
            "c237c2071152492083dfe36565a16234",
            "b4ea6dc0a88748faa72dfddbbe11fd2e"
          ]
        },
        "id": "lhwl9er8AXAh",
        "outputId": "02e47b89-db8c-4237-aa95-7b8e79a98960"
      },
      "outputs": [
        {
          "output_type": "stream",
          "name": "stderr",
          "text": [
            "/usr/local/lib/python3.12/dist-packages/huggingface_hub/utils/_auth.py:94: UserWarning: \n",
            "The secret `HF_TOKEN` does not exist in your Colab secrets.\n",
            "To authenticate with the Hugging Face Hub, create a token in your settings tab (https://huggingface.co/settings/tokens), set it as secret in your Google Colab and restart your session.\n",
            "You will be able to reuse this secret in all of your notebooks.\n",
            "Please note that authentication is recommended but still optional to access public models or datasets.\n",
            "  warnings.warn(\n"
          ]
        },
        {
          "output_type": "display_data",
          "data": {
            "text/plain": [
              "README.md: 0.00B [00:00, ?B/s]"
            ],
            "application/vnd.jupyter.widget-view+json": {
              "version_major": 2,
              "version_minor": 0,
              "model_id": "cae74fd120fe43af921dd10a19135d0a"
            }
          },
          "metadata": {}
        },
        {
          "output_type": "display_data",
          "data": {
            "text/plain": [
              "data_jobs.csv:   0%|          | 0.00/231M [00:00<?, ?B/s]"
            ],
            "application/vnd.jupyter.widget-view+json": {
              "version_major": 2,
              "version_minor": 0,
              "model_id": "6b5cccf92445407f8802775fa696f338"
            }
          },
          "metadata": {}
        },
        {
          "output_type": "display_data",
          "data": {
            "text/plain": [
              "Generating train split:   0%|          | 0/785741 [00:00<?, ? examples/s]"
            ],
            "application/vnd.jupyter.widget-view+json": {
              "version_major": 2,
              "version_minor": 0,
              "model_id": "94d93f473caf47a29b956ccbeda82d77"
            }
          },
          "metadata": {}
        }
      ],
      "source": [
        "from datasets import load_dataset\n",
        "\n",
        "# Load the dataset\n",
        "dataset = load_dataset('lukebarousse/data_jobs')\n",
        "df = dataset['train'].to_pandas()\n",
        "\n",
        "# Create a list of job titles from the dataset\n",
        "job_list = df['job_title'].tolist()\n",
        "\n",
        "# Remove any non-string values from the list\n",
        "job_list = [job for job in job_list if isinstance(job, str)]"
      ]
    },
    {
      "cell_type": "code",
      "source": [
        "len(job_list)"
      ],
      "metadata": {
        "colab": {
          "base_uri": "https://localhost:8080/"
        },
        "id": "aQoE1XdkazBV",
        "outputId": "23d8182a-9ff6-42fd-9839-77f33dd697a4"
      },
      "execution_count": null,
      "outputs": [
        {
          "output_type": "execute_result",
          "data": {
            "text/plain": [
              "785740"
            ]
          },
          "metadata": {},
          "execution_count": 2
        }
      ]
    },
    {
      "cell_type": "code",
      "source": [
        "job_list[:30]"
      ],
      "metadata": {
        "colab": {
          "base_uri": "https://localhost:8080/"
        },
        "id": "mGMqY0m3cCSS",
        "outputId": "10dd2d57-8444-45a9-82d9-911d8171d513"
      },
      "execution_count": null,
      "outputs": [
        {
          "output_type": "execute_result",
          "data": {
            "text/plain": [
              "['Senior Clinical Data Engineer / Principal Clinical Data Engineer ...',\n",
              " 'Data Analyst',\n",
              " 'Data Engineer/Scientist/Analyst, Mid or Senior (m/f/x)',\n",
              " 'LEAD ENGINEER - PRINCIPAL ANALYST - PRINCIPAL ENGINEER -  DATA...',\n",
              " 'Data Engineer- Sr Jobs',\n",
              " 'GCP Data Engineer',\n",
              " 'Senior Data Engineer  - GCP Cloud',\n",
              " 'Data Engineer',\n",
              " 'Technology & Operations Business Analyst',\n",
              " 'Data Scientist II',\n",
              " 'Erfahrene*r Data Engineer*in (m/w/d)',\n",
              " 'Data Engineer',\n",
              " 'Stagiaire Data Analyst (H/F) - Lyon (69006)',\n",
              " 'Senior Data Engineer',\n",
              " 'Data Engineer',\n",
              " 'Data Engineer',\n",
              " 'Big Data Engineer',\n",
              " 'Data Science Team Lead',\n",
              " 'Data Analyst',\n",
              " 'Data Scientist',\n",
              " 'Data Scientist',\n",
              " 'Stage - data scientist – génération ia de données synthétiques H/F',\n",
              " 'Data Engineer / Développeur·euse Big Data F/H',\n",
              " 'PhD position in computer science (NLP, finance)',\n",
              " 'Data Scientist (DataLab Team)',\n",
              " 'Senior Officer, Data Analyst, GTO',\n",
              " 'Data Engineer',\n",
              " 'Principal Data Engineer (Lead), Knowledge Graphs and Data Semantics',\n",
              " 'CRM Data Specialist',\n",
              " 'Data Scientist']"
            ]
          },
          "metadata": {},
          "execution_count": 3
        }
      ]
    },
    {
      "cell_type": "code",
      "source": [
        "Analyst_list = []\n",
        "\n",
        "for var in job_list:\n",
        "  if \"Data Analyst\" in var:\n",
        "    Analyst_list.append(var)\n",
        "\n",
        "print(len(Analyst_list))\n",
        "Analyst_list[:30]"
      ],
      "metadata": {
        "colab": {
          "base_uri": "https://localhost:8080/"
        },
        "id": "I4oGBvhWdrqt",
        "outputId": "1537358f-8a3d-46e5-9291-8276014aa8a3"
      },
      "execution_count": null,
      "outputs": [
        {
          "output_type": "stream",
          "name": "stdout",
          "text": [
            "162708\n"
          ]
        },
        {
          "output_type": "execute_result",
          "data": {
            "text/plain": [
              "['Data Analyst',\n",
              " 'Stagiaire Data Analyst (H/F) - Lyon (69006)',\n",
              " 'Data Analyst',\n",
              " 'Senior Officer, Data Analyst, GTO',\n",
              " 'Stage - Data Analyst F/H',\n",
              " 'Data Analyst als Marketing Manager Automation (W/D/M)',\n",
              " 'Data Analyst',\n",
              " 'Senior Data Analyst',\n",
              " 'Data Analyst (Bangkok Based, relocation provided)',\n",
              " 'Senior Data Analyst',\n",
              " 'Stage - Data Analyste Finance H/F',\n",
              " 'Sr. Research Data Analyst',\n",
              " 'Entry level / Systems Data Analyst (Remote)',\n",
              " 'Data Entry/Economic Data Analyst',\n",
              " 'Data Analyst - 14785091749',\n",
              " 'Data Analyst/Report Writer',\n",
              " 'Business Data Analyst',\n",
              " 'IT Finance / TBM Data Analyst - Remote | WFH',\n",
              " 'Systems & Data Analyst - Exploitation, Missing and Youth Justice...',\n",
              " 'Data Analyst',\n",
              " 'Senior Data Analyst (1541)',\n",
              " 'Data Analyst & Process Developer (m/w/d)',\n",
              " 'Data Analyst (m/f/d)',\n",
              " 'Data Analyst/Accreditation Manager',\n",
              " 'Senior Data Analyst',\n",
              " 'Data Analyst',\n",
              " 'Senior Data Analyst',\n",
              " 'Data Analyst',\n",
              " 'Senior Data Analyst',\n",
              " 'BI Data Analyst [Hybrid]']"
            ]
          },
          "metadata": {},
          "execution_count": 4
        }
      ]
    },
    {
      "cell_type": "code",
      "source": [
        "numbers = [0, 1, 2, 3, 4, 5]\n",
        "\n",
        "for number in numbers:\n",
        "  print (number)"
      ],
      "metadata": {
        "colab": {
          "base_uri": "https://localhost:8080/"
        },
        "id": "UipzJ9GPf_Ph",
        "outputId": "9587749c-c8c4-44da-85b5-e4ee8244d11a"
      },
      "execution_count": null,
      "outputs": [
        {
          "output_type": "stream",
          "name": "stdout",
          "text": [
            "0\n",
            "1\n",
            "2\n",
            "3\n",
            "4\n",
            "5\n"
          ]
        }
      ]
    },
    {
      "cell_type": "code",
      "source": [
        "characters = \"CRISTINA PRESA\"\n",
        "\n",
        "for character in characters:\n",
        "  print(character)"
      ],
      "metadata": {
        "colab": {
          "base_uri": "https://localhost:8080/"
        },
        "id": "MvB4r81Bg_m-",
        "outputId": "77895a39-0ee9-4bf4-deb8-81e7227a105b"
      },
      "execution_count": null,
      "outputs": [
        {
          "output_type": "stream",
          "name": "stdout",
          "text": [
            "C\n",
            "R\n",
            "I\n",
            "S\n",
            "T\n",
            "I\n",
            "N\n",
            "A\n",
            " \n",
            "P\n",
            "R\n",
            "E\n",
            "S\n",
            "A\n"
          ]
        }
      ]
    },
    {
      "cell_type": "code",
      "source": [
        "years_experience = {\n",
        "    \"James\": 3,\n",
        "    \"Olivia\": 7,\n",
        "    \"William\": 2,\n",
        "    \"Sophia\": 5,\n",
        "    \"Benjamin\": 9,\n",
        "    \"Charlotte\": 4,\n",
        "    \"Lucas\": 8,\n",
        "    \"Amelia\": 6,\n",
        "    \"Henry\": 10,\n",
        "    \"Isabella\": 1,\n",
        "    \"Alexander\": 7,\n",
        "    \"Mia\": 2,\n",
        "    \"Ethan\": 6,\n",
        "    \"Harper\": 3,\n",
        "    \"Daniel\": 9,\n",
        "    \"Evelyn\": 5,\n",
        "    \"Matthew\": 4,\n",
        "    \"Abigail\": 8,\n",
        "    \"Joseph\": 2,\n",
        "    \"Ella\": 1\n",
        "}"
      ],
      "metadata": {
        "id": "dtIPOF_ffZZr"
      },
      "execution_count": null,
      "outputs": []
    },
    {
      "cell_type": "code",
      "source": [
        "for person in years_experience:\n",
        "  print(person)"
      ],
      "metadata": {
        "colab": {
          "base_uri": "https://localhost:8080/"
        },
        "id": "-Q_qpX9oh07g",
        "outputId": "9a71a95e-70f1-48f6-9ca4-0cfcc8bb7f39"
      },
      "execution_count": null,
      "outputs": [
        {
          "output_type": "stream",
          "name": "stdout",
          "text": [
            "James\n",
            "Olivia\n",
            "William\n",
            "Sophia\n",
            "Benjamin\n",
            "Charlotte\n",
            "Lucas\n",
            "Amelia\n",
            "Henry\n",
            "Isabella\n",
            "Alexander\n",
            "Mia\n",
            "Ethan\n",
            "Harper\n",
            "Daniel\n",
            "Evelyn\n",
            "Matthew\n",
            "Abigail\n",
            "Joseph\n",
            "Ella\n"
          ]
        }
      ]
    },
    {
      "cell_type": "code",
      "source": [
        "for value in years_experience.values():\n",
        "  print (value)"
      ],
      "metadata": {
        "colab": {
          "base_uri": "https://localhost:8080/"
        },
        "id": "BvNR1KQ5i94-",
        "outputId": "f52c38c0-c9af-4c95-d3ea-1147d2bf6e8b"
      },
      "execution_count": null,
      "outputs": [
        {
          "output_type": "stream",
          "name": "stdout",
          "text": [
            "3\n",
            "7\n",
            "2\n",
            "5\n",
            "9\n",
            "4\n",
            "8\n",
            "6\n",
            "10\n",
            "1\n",
            "7\n",
            "2\n",
            "6\n",
            "3\n",
            "9\n",
            "5\n",
            "4\n",
            "8\n",
            "2\n",
            "1\n"
          ]
        }
      ]
    },
    {
      "cell_type": "code",
      "source": [
        "for key, value in years_experience.items():\n",
        "  print(key, value)"
      ],
      "metadata": {
        "colab": {
          "base_uri": "https://localhost:8080/"
        },
        "id": "ZQz90atJmcoX",
        "outputId": "77b2b9ce-a996-44fe-c9f9-21a5ce2dd335"
      },
      "execution_count": null,
      "outputs": [
        {
          "output_type": "stream",
          "name": "stdout",
          "text": [
            "James 3\n",
            "Olivia 7\n",
            "William 2\n",
            "Sophia 5\n",
            "Benjamin 9\n",
            "Charlotte 4\n",
            "Lucas 8\n",
            "Amelia 6\n",
            "Henry 10\n",
            "Isabella 1\n",
            "Alexander 7\n",
            "Mia 2\n",
            "Ethan 6\n",
            "Harper 3\n",
            "Daniel 9\n",
            "Evelyn 5\n",
            "Matthew 4\n",
            "Abigail 8\n",
            "Joseph 2\n",
            "Ella 1\n"
          ]
        }
      ]
    },
    {
      "cell_type": "code",
      "source": [
        "filt_years_exp = {}\n",
        "\n",
        "for key, value in years_experience.items():\n",
        "  if value > 5:\n",
        "    filt_years_exp[key] = value\n",
        "\n",
        "print(filt_years_exp)"
      ],
      "metadata": {
        "colab": {
          "base_uri": "https://localhost:8080/"
        },
        "id": "BdXO2Ynzm1eW",
        "outputId": "a6dd86f3-104d-4abb-b6a3-736c5131ea3b"
      },
      "execution_count": null,
      "outputs": [
        {
          "output_type": "stream",
          "name": "stdout",
          "text": [
            "{'Olivia': 7, 'Benjamin': 9, 'Lucas': 8, 'Amelia': 6, 'Henry': 10, 'Alexander': 7, 'Ethan': 6, 'Daniel': 9, 'Abigail': 8}\n",
            "Olivia has 7 years of experience\n",
            "Benjamin has 9 years of experience\n",
            "Lucas has 8 years of experience\n",
            "Amelia has 6 years of experience\n",
            "Henry has 10 years of experience\n",
            "Alexander has 7 years of experience\n",
            "Ethan has 6 years of experience\n",
            "Daniel has 9 years of experience\n",
            "Abigail has 8 years of experience\n"
          ]
        }
      ]
    },
    {
      "cell_type": "code",
      "source": [
        "#ALSO\n",
        "for key, value in years_experience.items():\n",
        "  if value > 5:\n",
        "    print(key, \"has\", value, \"years of experience\")"
      ],
      "metadata": {
        "colab": {
          "base_uri": "https://localhost:8080/"
        },
        "id": "7iAme-2DoGhG",
        "outputId": "edca5671-a47b-46ef-a380-bc7d16ca110c"
      },
      "execution_count": null,
      "outputs": [
        {
          "output_type": "stream",
          "name": "stdout",
          "text": [
            "Olivia has 7 years of experience\n",
            "Benjamin has 9 years of experience\n",
            "Lucas has 8 years of experience\n",
            "Amelia has 6 years of experience\n",
            "Henry has 10 years of experience\n",
            "Alexander has 7 years of experience\n",
            "Ethan has 6 years of experience\n",
            "Daniel has 9 years of experience\n",
            "Abigail has 8 years of experience\n"
          ]
        }
      ]
    },
    {
      "cell_type": "code",
      "source": [
        "for _ in range (20):\n",
        "  print(_)"
      ],
      "metadata": {
        "colab": {
          "base_uri": "https://localhost:8080/"
        },
        "id": "E4_c6Mn_n1Ks",
        "outputId": "91574021-32d8-459c-d553-861b31fb7440"
      },
      "execution_count": null,
      "outputs": [
        {
          "output_type": "stream",
          "name": "stdout",
          "text": [
            "0\n",
            "1\n",
            "2\n",
            "3\n",
            "4\n",
            "5\n",
            "6\n",
            "7\n",
            "8\n",
            "9\n",
            "10\n",
            "11\n",
            "12\n",
            "13\n",
            "14\n",
            "15\n",
            "16\n",
            "17\n",
            "18\n",
            "19\n"
          ]
        }
      ]
    },
    {
      "cell_type": "code",
      "source": [
        "#DO NOT EXECUTE THE FOLLOWING\n",
        "\n",
        "while True:\n",
        "  print(\"Data Nerd\")"
      ],
      "metadata": {
        "id": "VkLlngz1osyx"
      },
      "execution_count": null,
      "outputs": []
    },
    {
      "cell_type": "code",
      "source": [
        "count = 1\n",
        "\n",
        "while count <= 5:\n",
        "  print(count)\n",
        "  count += 1"
      ],
      "metadata": {
        "colab": {
          "base_uri": "https://localhost:8080/"
        },
        "id": "Hf0XNYXjpjXU",
        "outputId": "40816cbc-b43c-49d6-a877-a1ef3c191976"
      },
      "execution_count": null,
      "outputs": [
        {
          "output_type": "stream",
          "name": "stdout",
          "text": [
            "1\n",
            "2\n",
            "3\n",
            "4\n",
            "5\n"
          ]
        }
      ]
    },
    {
      "cell_type": "code",
      "source": [
        "years = 0\n",
        "index = 0\n",
        "\n",
        "years_list = list(years_experience.items())\n",
        "\n",
        "while years < 5:\n",
        "  value_a, years = years_list[index]\n",
        "  if years >= 5:\n",
        "    print(value_a, \"has\", years, \"years of experience\")\n",
        "  index += 1"
      ],
      "metadata": {
        "colab": {
          "base_uri": "https://localhost:8080/"
        },
        "id": "LU1MivWrrZ6K",
        "outputId": "f1459e76-1447-4a98-a977-736407b33c0e"
      },
      "execution_count": null,
      "outputs": [
        {
          "output_type": "stream",
          "name": "stdout",
          "text": [
            "Olivia has 7 years of experience\n"
          ]
        }
      ]
    }
  ]
}