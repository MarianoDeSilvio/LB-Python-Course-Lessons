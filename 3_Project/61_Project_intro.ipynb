{
 "cells": [
  {
   "cell_type": "markdown",
   "id": "41da69c1",
   "metadata": {},
   "source": [
    "# Exploratory Data Analysis & Intro\n",
    "\n",
    "## Goal\n",
    "\n",
    "1. Investigate top-paying roles and skills in the data science industry\n",
    "2. Use Python to explore a real-live dataseton job postings\n",
    "3. For job-seekers: use these insightsto help find the best job opportunities\n",
    "\n",
    "## Final Deliverables\n",
    "\n",
    "- Create Jupyter Notebooks (showcasing core skills in Python)\n",
    "- Create a summary page (via README.md) capturing your findings\n",
    "- Share this project via GitHub & Linkedin"
   ]
  },
  {
   "cell_type": "markdown",
   "id": "f7c7c1fd",
   "metadata": {},
   "source": [
    "# Questions to Answer\n",
    "\n",
    "1. What are the most demanded skills for the top 3 most popular data roles?\n",
    "2. How are in-demand skills trending for Data Analysts?\n",
    "3. How well do jobs and skills pay for Data Analysts?\n",
    "4. What is the most optimal skill to learn for Data Analysts? (High Demand Paying)\n",
    "\n",
    "I'll be focusing on US Data Analyst roles, but you can adapt to any of the foreign countries"
   ]
  },
  {
   "cell_type": "markdown",
   "id": "11472a6d",
   "metadata": {},
   "source": []
  }
 ],
 "metadata": {
  "kernelspec": {
   "display_name": "python_course",
   "language": "python",
   "name": "python3"
  },
  "language_info": {
   "name": "python",
   "version": "3.11.13"
  }
 },
 "nbformat": 4,
 "nbformat_minor": 5
}
