{
 "cells": [
  {
   "cell_type": "code",
   "execution_count": 1,
   "id": "07e6e659",
   "metadata": {},
   "outputs": [],
   "source": [
    "# Importing Libraries\n",
    "import pandas as pd\n",
    "from datasets import load_dataset\n",
    "import matplotlib.pyplot as plt  \n",
    "\n",
    "# Loading Data\n",
    "dataset = load_dataset('lukebarousse/data_jobs')\n",
    "df = dataset['train'].to_pandas()\n",
    "\n",
    "# Data Cleanup\n",
    "df['job_posted_date'] = pd.to_datetime(df['job_posted_date'])"
   ]
  },
  {
   "cell_type": "code",
   "execution_count": 2,
   "id": "0cba193c",
   "metadata": {},
   "outputs": [
    {
     "data": {
      "text/plain": [
       "0        NaN\n",
       "1        NaN\n",
       "2        NaN\n",
       "3        NaN\n",
       "4        NaN\n",
       "          ..\n",
       "785736   NaN\n",
       "785737   NaN\n",
       "785738   NaN\n",
       "785739   NaN\n",
       "785740   NaN\n",
       "Name: salary_year_avg, Length: 785741, dtype: float64"
      ]
     },
     "execution_count": 2,
     "metadata": {},
     "output_type": "execute_result"
    }
   ],
   "source": [
    "df['salary_year_avg']"
   ]
  },
  {
   "cell_type": "code",
   "execution_count": 3,
   "id": "1dea9ee1",
   "metadata": {},
   "outputs": [
    {
     "data": {
      "text/plain": [
       "28        109500.0\n",
       "77        140000.0\n",
       "92        120000.0\n",
       "100       228222.0\n",
       "109        89000.0\n",
       "            ...   \n",
       "785624    139216.0\n",
       "785641    150000.0\n",
       "785648    221875.0\n",
       "785682    157500.0\n",
       "785692    157500.0\n",
       "Name: salary_year_avg, Length: 22003, dtype: float64"
      ]
     },
     "execution_count": 3,
     "metadata": {},
     "output_type": "execute_result"
    }
   ],
   "source": [
    "df[pd.notna(df['salary_year_avg'])]['salary_year_avg']"
   ]
  },
  {
   "cell_type": "code",
   "execution_count": 7,
   "id": "9c38a3cd",
   "metadata": {},
   "outputs": [
    {
     "data": {
      "text/plain": [
       "28        109500.0\n",
       "77        140000.0\n",
       "92        120000.0\n",
       "100       228222.0\n",
       "109        89000.0\n",
       "            ...   \n",
       "785624    139216.0\n",
       "785641    150000.0\n",
       "785648    221875.0\n",
       "785682    157500.0\n",
       "785692    157500.0\n",
       "Name: salary_year_avg, Length: 22003, dtype: float64"
      ]
     },
     "execution_count": 7,
     "metadata": {},
     "output_type": "execute_result"
    }
   ],
   "source": [
    "df[df['salary_year_avg'].notna()]['salary_year_avg']"
   ]
  },
  {
   "cell_type": "code",
   "execution_count": null,
   "id": "c1a60723",
   "metadata": {},
   "outputs": [
    {
     "data": {
      "text/plain": [
       "28        112785.00\n",
       "77        144200.00\n",
       "92        123600.00\n",
       "100       235068.66\n",
       "109        91670.00\n",
       "            ...    \n",
       "785624    143392.48\n",
       "785641    154500.00\n",
       "785648    228531.25\n",
       "785682    162225.00\n",
       "785692    162225.00\n",
       "Name: salary_year_avg, Length: 22003, dtype: float64"
      ]
     },
     "execution_count": 8,
     "metadata": {},
     "output_type": "execute_result"
    }
   ],
   "source": [
    "def projected_salary(salary):\n",
    "    return salary * 1.03\n",
    "\n",
    "df[df['salary_year_avg'].notna()]['salary_year_avg'].apply(projected_salary)"
   ]
  },
  {
   "cell_type": "code",
   "execution_count": 9,
   "id": "15aec9bd",
   "metadata": {},
   "outputs": [
    {
     "data": {
      "text/plain": [
       "pandas.core.series.Series"
      ]
     },
     "execution_count": 9,
     "metadata": {},
     "output_type": "execute_result"
    }
   ],
   "source": [
    "type(df[df['salary_year_avg'].notna()]['salary_year_avg'].apply(projected_salary))"
   ]
  },
  {
   "cell_type": "code",
   "execution_count": 11,
   "id": "58953f89",
   "metadata": {},
   "outputs": [],
   "source": [
    "series_salaries = df[df['salary_year_avg'].notna()]['salary_year_avg'].copy()\n",
    "series_salaries_inflated = df[df['salary_year_avg'].notna()]['salary_year_avg'].apply(projected_salary).copy()"
   ]
  },
  {
   "cell_type": "code",
   "execution_count": 14,
   "id": "fce5793a",
   "metadata": {},
   "outputs": [
    {
     "data": {
      "text/plain": [
       "28        3285.00\n",
       "77        4200.00\n",
       "92        3600.00\n",
       "100       6846.66\n",
       "109       2670.00\n",
       "           ...   \n",
       "785624    4176.48\n",
       "785641    4500.00\n",
       "785648    6656.25\n",
       "785682    4725.00\n",
       "785692    4725.00\n",
       "Name: salary_year_avg, Length: 22003, dtype: float64"
      ]
     },
     "execution_count": 14,
     "metadata": {},
     "output_type": "execute_result"
    }
   ],
   "source": [
    "series_salaries_inflated - series_salaries"
   ]
  },
  {
   "cell_type": "code",
   "execution_count": 16,
   "id": "f87f606a",
   "metadata": {},
   "outputs": [
    {
     "data": {
      "text/html": [
       "<div>\n",
       "<style scoped>\n",
       "    .dataframe tbody tr th:only-of-type {\n",
       "        vertical-align: middle;\n",
       "    }\n",
       "\n",
       "    .dataframe tbody tr th {\n",
       "        vertical-align: top;\n",
       "    }\n",
       "\n",
       "    .dataframe thead th {\n",
       "        text-align: right;\n",
       "    }\n",
       "</style>\n",
       "<table border=\"1\" class=\"dataframe\">\n",
       "  <thead>\n",
       "    <tr style=\"text-align: right;\">\n",
       "      <th></th>\n",
       "      <th>salary_year_avg</th>\n",
       "      <th>salary_year_inflated</th>\n",
       "    </tr>\n",
       "  </thead>\n",
       "  <tbody>\n",
       "    <tr>\n",
       "      <th>28</th>\n",
       "      <td>109500.0</td>\n",
       "      <td>112785.00</td>\n",
       "    </tr>\n",
       "    <tr>\n",
       "      <th>77</th>\n",
       "      <td>140000.0</td>\n",
       "      <td>144200.00</td>\n",
       "    </tr>\n",
       "    <tr>\n",
       "      <th>92</th>\n",
       "      <td>120000.0</td>\n",
       "      <td>123600.00</td>\n",
       "    </tr>\n",
       "    <tr>\n",
       "      <th>100</th>\n",
       "      <td>228222.0</td>\n",
       "      <td>235068.66</td>\n",
       "    </tr>\n",
       "    <tr>\n",
       "      <th>109</th>\n",
       "      <td>89000.0</td>\n",
       "      <td>91670.00</td>\n",
       "    </tr>\n",
       "    <tr>\n",
       "      <th>...</th>\n",
       "      <td>...</td>\n",
       "      <td>...</td>\n",
       "    </tr>\n",
       "    <tr>\n",
       "      <th>785624</th>\n",
       "      <td>139216.0</td>\n",
       "      <td>143392.48</td>\n",
       "    </tr>\n",
       "    <tr>\n",
       "      <th>785641</th>\n",
       "      <td>150000.0</td>\n",
       "      <td>154500.00</td>\n",
       "    </tr>\n",
       "    <tr>\n",
       "      <th>785648</th>\n",
       "      <td>221875.0</td>\n",
       "      <td>228531.25</td>\n",
       "    </tr>\n",
       "    <tr>\n",
       "      <th>785682</th>\n",
       "      <td>157500.0</td>\n",
       "      <td>162225.00</td>\n",
       "    </tr>\n",
       "    <tr>\n",
       "      <th>785692</th>\n",
       "      <td>157500.0</td>\n",
       "      <td>162225.00</td>\n",
       "    </tr>\n",
       "  </tbody>\n",
       "</table>\n",
       "<p>22003 rows × 2 columns</p>\n",
       "</div>"
      ],
      "text/plain": [
       "        salary_year_avg  salary_year_inflated\n",
       "28             109500.0             112785.00\n",
       "77             140000.0             144200.00\n",
       "92             120000.0             123600.00\n",
       "100            228222.0             235068.66\n",
       "109             89000.0              91670.00\n",
       "...                 ...                   ...\n",
       "785624         139216.0             143392.48\n",
       "785641         150000.0             154500.00\n",
       "785648         221875.0             228531.25\n",
       "785682         157500.0             162225.00\n",
       "785692         157500.0             162225.00\n",
       "\n",
       "[22003 rows x 2 columns]"
      ]
     },
     "execution_count": 16,
     "metadata": {},
     "output_type": "execute_result"
    }
   ],
   "source": [
    "df_salary = df[df['salary_year_avg'].notna()].copy()\n",
    "df_salary['salary_year_inflated'] = df_salary['salary_year_avg'].apply(projected_salary)\n",
    "df_salary[['salary_year_avg','salary_year_inflated']]"
   ]
  },
  {
   "cell_type": "code",
   "execution_count": 17,
   "id": "dafb96f0",
   "metadata": {},
   "outputs": [
    {
     "data": {
      "text/html": [
       "<div>\n",
       "<style scoped>\n",
       "    .dataframe tbody tr th:only-of-type {\n",
       "        vertical-align: middle;\n",
       "    }\n",
       "\n",
       "    .dataframe tbody tr th {\n",
       "        vertical-align: top;\n",
       "    }\n",
       "\n",
       "    .dataframe thead th {\n",
       "        text-align: right;\n",
       "    }\n",
       "</style>\n",
       "<table border=\"1\" class=\"dataframe\">\n",
       "  <thead>\n",
       "    <tr style=\"text-align: right;\">\n",
       "      <th></th>\n",
       "      <th>salary_year_avg</th>\n",
       "      <th>salary_year_inflated</th>\n",
       "    </tr>\n",
       "  </thead>\n",
       "  <tbody>\n",
       "    <tr>\n",
       "      <th>28</th>\n",
       "      <td>109500.0</td>\n",
       "      <td>112785.00</td>\n",
       "    </tr>\n",
       "    <tr>\n",
       "      <th>77</th>\n",
       "      <td>140000.0</td>\n",
       "      <td>144200.00</td>\n",
       "    </tr>\n",
       "    <tr>\n",
       "      <th>92</th>\n",
       "      <td>120000.0</td>\n",
       "      <td>123600.00</td>\n",
       "    </tr>\n",
       "    <tr>\n",
       "      <th>100</th>\n",
       "      <td>228222.0</td>\n",
       "      <td>235068.66</td>\n",
       "    </tr>\n",
       "    <tr>\n",
       "      <th>109</th>\n",
       "      <td>89000.0</td>\n",
       "      <td>91670.00</td>\n",
       "    </tr>\n",
       "    <tr>\n",
       "      <th>...</th>\n",
       "      <td>...</td>\n",
       "      <td>...</td>\n",
       "    </tr>\n",
       "    <tr>\n",
       "      <th>785624</th>\n",
       "      <td>139216.0</td>\n",
       "      <td>143392.48</td>\n",
       "    </tr>\n",
       "    <tr>\n",
       "      <th>785641</th>\n",
       "      <td>150000.0</td>\n",
       "      <td>154500.00</td>\n",
       "    </tr>\n",
       "    <tr>\n",
       "      <th>785648</th>\n",
       "      <td>221875.0</td>\n",
       "      <td>228531.25</td>\n",
       "    </tr>\n",
       "    <tr>\n",
       "      <th>785682</th>\n",
       "      <td>157500.0</td>\n",
       "      <td>162225.00</td>\n",
       "    </tr>\n",
       "    <tr>\n",
       "      <th>785692</th>\n",
       "      <td>157500.0</td>\n",
       "      <td>162225.00</td>\n",
       "    </tr>\n",
       "  </tbody>\n",
       "</table>\n",
       "<p>22003 rows × 2 columns</p>\n",
       "</div>"
      ],
      "text/plain": [
       "        salary_year_avg  salary_year_inflated\n",
       "28             109500.0             112785.00\n",
       "77             140000.0             144200.00\n",
       "92             120000.0             123600.00\n",
       "100            228222.0             235068.66\n",
       "109             89000.0              91670.00\n",
       "...                 ...                   ...\n",
       "785624         139216.0             143392.48\n",
       "785641         150000.0             154500.00\n",
       "785648         221875.0             228531.25\n",
       "785682         157500.0             162225.00\n",
       "785692         157500.0             162225.00\n",
       "\n",
       "[22003 rows x 2 columns]"
      ]
     },
     "execution_count": 17,
     "metadata": {},
     "output_type": "execute_result"
    }
   ],
   "source": [
    "df_salary['salary_year_inflated'] = df_salary['salary_year_avg'].apply(lambda salary: salary*1.03)\n",
    "\n",
    "df_salary[['salary_year_avg','salary_year_inflated']]"
   ]
  },
  {
   "cell_type": "code",
   "execution_count": null,
   "id": "1540e044",
   "metadata": {},
   "outputs": [
    {
     "data": {
      "text/plain": [
       "\"['r', 'python', 'sql', 'nosql', 'power bi', 'tableau']\""
      ]
     },
     "execution_count": 31,
     "metadata": {},
     "output_type": "execute_result"
    }
   ],
   "source": [
    "df['job_skills'][1]"
   ]
  },
  {
   "cell_type": "code",
   "execution_count": 32,
   "id": "22e384a3",
   "metadata": {},
   "outputs": [
    {
     "data": {
      "text/plain": [
       "str"
      ]
     },
     "execution_count": 32,
     "metadata": {},
     "output_type": "execute_result"
    }
   ],
   "source": [
    "type(df['job_skills'][1])"
   ]
  },
  {
   "cell_type": "code",
   "execution_count": 33,
   "id": "ebca79a2",
   "metadata": {},
   "outputs": [],
   "source": [
    "import ast"
   ]
  },
  {
   "cell_type": "code",
   "execution_count": 35,
   "id": "62c96913",
   "metadata": {},
   "outputs": [
    {
     "name": "stdout",
     "output_type": "stream",
     "text": [
      "['r', 'python', 'sql', 'nosql', 'power bi', 'tableau']\n"
     ]
    },
    {
     "data": {
      "text/plain": [
       "list"
      ]
     },
     "execution_count": 35,
     "metadata": {},
     "output_type": "execute_result"
    }
   ],
   "source": [
    "print(ast.literal_eval(df['job_skills'][1]))\n",
    "type(ast.literal_eval(df['job_skills'][1]))"
   ]
  },
  {
   "cell_type": "code",
   "execution_count": 38,
   "id": "af2aefa6",
   "metadata": {},
   "outputs": [],
   "source": [
    "def clean_list(skill_list):\n",
    "    if pd.notna(skill_list):\n",
    "        return ast.literal_eval(skill_list)"
   ]
  },
  {
   "cell_type": "code",
   "execution_count": null,
   "id": "0af2fe8e",
   "metadata": {},
   "outputs": [
    {
     "name": "stdout",
     "output_type": "stream",
     "text": [
      "<class 'pandas.core.frame.DataFrame'>\n",
      "RangeIndex: 785741 entries, 0 to 785740\n",
      "Data columns (total 17 columns):\n",
      " #   Column                 Non-Null Count   Dtype         \n",
      "---  ------                 --------------   -----         \n",
      " 0   job_title_short        785741 non-null  object        \n",
      " 1   job_title              785740 non-null  object        \n",
      " 2   job_location           784696 non-null  object        \n",
      " 3   job_via                785733 non-null  object        \n",
      " 4   job_schedule_type      773074 non-null  object        \n",
      " 5   job_work_from_home     785741 non-null  bool          \n",
      " 6   search_location        785741 non-null  object        \n",
      " 7   job_posted_date        785741 non-null  datetime64[ns]\n",
      " 8   job_no_degree_mention  785741 non-null  bool          \n",
      " 9   job_health_insurance   785741 non-null  bool          \n",
      " 10  job_country            785692 non-null  object        \n",
      " 11  salary_rate            33067 non-null   object        \n",
      " 12  salary_year_avg        22003 non-null   float64       \n",
      " 13  salary_hour_avg        10662 non-null   float64       \n",
      " 14  company_name           785723 non-null  object        \n",
      " 15  job_skills             668704 non-null  object        \n",
      " 16  job_type_skills        668704 non-null  object        \n",
      "dtypes: bool(3), datetime64[ns](1), float64(2), object(11)\n",
      "memory usage: 86.2+ MB\n"
     ]
    }
   ],
   "source": [
    "df['job_skills'] = df['job_skills'].apply(clean_list)"
   ]
  },
  {
   "cell_type": "code",
   "execution_count": 42,
   "id": "9bac2998",
   "metadata": {},
   "outputs": [
    {
     "data": {
      "text/plain": [
       "list"
      ]
     },
     "execution_count": 42,
     "metadata": {},
     "output_type": "execute_result"
    }
   ],
   "source": [
    "type(df['job_skills'][1])"
   ]
  },
  {
   "cell_type": "code",
   "execution_count": null,
   "id": "be71aeae",
   "metadata": {},
   "outputs": [],
   "source": [
    "df['job_skills'] = df['job_skills'].apply(lambda skill_list: ast.literal_eval(skill_list) if pd.notna(skill_list) else skill_list)"
   ]
  },
  {
   "cell_type": "code",
   "execution_count": 44,
   "id": "875356c0",
   "metadata": {},
   "outputs": [
    {
     "data": {
      "text/html": [
       "<div>\n",
       "<style scoped>\n",
       "    .dataframe tbody tr th:only-of-type {\n",
       "        vertical-align: middle;\n",
       "    }\n",
       "\n",
       "    .dataframe tbody tr th {\n",
       "        vertical-align: top;\n",
       "    }\n",
       "\n",
       "    .dataframe thead th {\n",
       "        text-align: right;\n",
       "    }\n",
       "</style>\n",
       "<table border=\"1\" class=\"dataframe\">\n",
       "  <thead>\n",
       "    <tr style=\"text-align: right;\">\n",
       "      <th></th>\n",
       "      <th>job_title_short</th>\n",
       "      <th>salary_year_avg</th>\n",
       "      <th>salary_year_inflated</th>\n",
       "    </tr>\n",
       "  </thead>\n",
       "  <tbody>\n",
       "    <tr>\n",
       "      <th>28</th>\n",
       "      <td>Data Scientist</td>\n",
       "      <td>109500.0</td>\n",
       "      <td>112785.00</td>\n",
       "    </tr>\n",
       "    <tr>\n",
       "      <th>77</th>\n",
       "      <td>Data Engineer</td>\n",
       "      <td>140000.0</td>\n",
       "      <td>144200.00</td>\n",
       "    </tr>\n",
       "    <tr>\n",
       "      <th>92</th>\n",
       "      <td>Data Engineer</td>\n",
       "      <td>120000.0</td>\n",
       "      <td>123600.00</td>\n",
       "    </tr>\n",
       "    <tr>\n",
       "      <th>100</th>\n",
       "      <td>Data Scientist</td>\n",
       "      <td>228222.0</td>\n",
       "      <td>235068.66</td>\n",
       "    </tr>\n",
       "    <tr>\n",
       "      <th>109</th>\n",
       "      <td>Data Analyst</td>\n",
       "      <td>89000.0</td>\n",
       "      <td>91670.00</td>\n",
       "    </tr>\n",
       "    <tr>\n",
       "      <th>...</th>\n",
       "      <td>...</td>\n",
       "      <td>...</td>\n",
       "      <td>...</td>\n",
       "    </tr>\n",
       "    <tr>\n",
       "      <th>785624</th>\n",
       "      <td>Data Engineer</td>\n",
       "      <td>139216.0</td>\n",
       "      <td>143392.48</td>\n",
       "    </tr>\n",
       "    <tr>\n",
       "      <th>785641</th>\n",
       "      <td>Data Engineer</td>\n",
       "      <td>150000.0</td>\n",
       "      <td>154500.00</td>\n",
       "    </tr>\n",
       "    <tr>\n",
       "      <th>785648</th>\n",
       "      <td>Data Scientist</td>\n",
       "      <td>221875.0</td>\n",
       "      <td>228531.25</td>\n",
       "    </tr>\n",
       "    <tr>\n",
       "      <th>785682</th>\n",
       "      <td>Data Scientist</td>\n",
       "      <td>157500.0</td>\n",
       "      <td>162225.00</td>\n",
       "    </tr>\n",
       "    <tr>\n",
       "      <th>785692</th>\n",
       "      <td>Data Scientist</td>\n",
       "      <td>157500.0</td>\n",
       "      <td>162225.00</td>\n",
       "    </tr>\n",
       "  </tbody>\n",
       "</table>\n",
       "<p>22003 rows × 3 columns</p>\n",
       "</div>"
      ],
      "text/plain": [
       "       job_title_short  salary_year_avg  salary_year_inflated\n",
       "28      Data Scientist         109500.0             112785.00\n",
       "77       Data Engineer         140000.0             144200.00\n",
       "92       Data Engineer         120000.0             123600.00\n",
       "100     Data Scientist         228222.0             235068.66\n",
       "109       Data Analyst          89000.0              91670.00\n",
       "...                ...              ...                   ...\n",
       "785624   Data Engineer         139216.0             143392.48\n",
       "785641   Data Engineer         150000.0             154500.00\n",
       "785648  Data Scientist         221875.0             228531.25\n",
       "785682  Data Scientist         157500.0             162225.00\n",
       "785692  Data Scientist         157500.0             162225.00\n",
       "\n",
       "[22003 rows x 3 columns]"
      ]
     },
     "execution_count": 44,
     "metadata": {},
     "output_type": "execute_result"
    }
   ],
   "source": [
    "def projected_salary(row):\n",
    "    if \"Senior\" in row['job_title_short']:\n",
    "        return row['salary_year_avg'] * 1.05\n",
    "    else:\n",
    "        return row['salary_year_avg'] * 1.03\n",
    "        \n",
    "df_salary['salary_year_inflated'] = df_salary.apply(projected_salary, axis = 1)\n",
    "\n",
    "df_salary[['job_title_short', 'salary_year_avg', 'salary_year_inflated']]"
   ]
  }
 ],
 "metadata": {
  "kernelspec": {
   "display_name": "python_course",
   "language": "python",
   "name": "python3"
  },
  "language_info": {
   "codemirror_mode": {
    "name": "ipython",
    "version": 3
   },
   "file_extension": ".py",
   "mimetype": "text/x-python",
   "name": "python",
   "nbconvert_exporter": "python",
   "pygments_lexer": "ipython3",
   "version": "3.11.13"
  }
 },
 "nbformat": 4,
 "nbformat_minor": 5
}
