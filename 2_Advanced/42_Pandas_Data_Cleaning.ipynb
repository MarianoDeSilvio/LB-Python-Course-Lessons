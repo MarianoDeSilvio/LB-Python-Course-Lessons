{
 "cells": [
  {
   "cell_type": "code",
   "execution_count": 1,
   "id": "05966cfb",
   "metadata": {},
   "outputs": [],
   "source": [
    "# Importing libraries\n",
    "import pandas as pd\n",
    "from datasets import load_dataset\n",
    "import matplotlib.pyplot as plt\n",
    "\n",
    "# Loading Data\n",
    "dataset = load_dataset('lukebarousse/data_jobs')\n",
    "df = dataset['train'].to_pandas()\n",
    "\n",
    "# Data Cleanup\n",
    "df['job_posted_date'] = pd.to_datetime(df['job_posted_date'])"
   ]
  },
  {
   "cell_type": "code",
   "execution_count": 4,
   "id": "b41904e5",
   "metadata": {},
   "outputs": [
    {
     "data": {
      "text/html": [
       "<div>\n",
       "<style scoped>\n",
       "    .dataframe tbody tr th:only-of-type {\n",
       "        vertical-align: middle;\n",
       "    }\n",
       "\n",
       "    .dataframe tbody tr th {\n",
       "        vertical-align: top;\n",
       "    }\n",
       "\n",
       "    .dataframe thead th {\n",
       "        text-align: right;\n",
       "    }\n",
       "</style>\n",
       "<table border=\"1\" class=\"dataframe\">\n",
       "  <thead>\n",
       "    <tr style=\"text-align: right;\">\n",
       "      <th></th>\n",
       "      <th>salary_year_avg</th>\n",
       "      <th>salary_hour_avg</th>\n",
       "    </tr>\n",
       "  </thead>\n",
       "  <tbody>\n",
       "    <tr>\n",
       "      <th>0</th>\n",
       "      <td>NaN</td>\n",
       "      <td>NaN</td>\n",
       "    </tr>\n",
       "    <tr>\n",
       "      <th>1</th>\n",
       "      <td>NaN</td>\n",
       "      <td>NaN</td>\n",
       "    </tr>\n",
       "    <tr>\n",
       "      <th>2</th>\n",
       "      <td>NaN</td>\n",
       "      <td>NaN</td>\n",
       "    </tr>\n",
       "    <tr>\n",
       "      <th>3</th>\n",
       "      <td>NaN</td>\n",
       "      <td>NaN</td>\n",
       "    </tr>\n",
       "    <tr>\n",
       "      <th>4</th>\n",
       "      <td>NaN</td>\n",
       "      <td>NaN</td>\n",
       "    </tr>\n",
       "    <tr>\n",
       "      <th>5</th>\n",
       "      <td>NaN</td>\n",
       "      <td>NaN</td>\n",
       "    </tr>\n",
       "    <tr>\n",
       "      <th>6</th>\n",
       "      <td>NaN</td>\n",
       "      <td>NaN</td>\n",
       "    </tr>\n",
       "    <tr>\n",
       "      <th>7</th>\n",
       "      <td>NaN</td>\n",
       "      <td>NaN</td>\n",
       "    </tr>\n",
       "    <tr>\n",
       "      <th>8</th>\n",
       "      <td>NaN</td>\n",
       "      <td>NaN</td>\n",
       "    </tr>\n",
       "    <tr>\n",
       "      <th>9</th>\n",
       "      <td>NaN</td>\n",
       "      <td>NaN</td>\n",
       "    </tr>\n",
       "    <tr>\n",
       "      <th>10</th>\n",
       "      <td>NaN</td>\n",
       "      <td>NaN</td>\n",
       "    </tr>\n",
       "  </tbody>\n",
       "</table>\n",
       "</div>"
      ],
      "text/plain": [
       "    salary_year_avg  salary_hour_avg\n",
       "0               NaN              NaN\n",
       "1               NaN              NaN\n",
       "2               NaN              NaN\n",
       "3               NaN              NaN\n",
       "4               NaN              NaN\n",
       "5               NaN              NaN\n",
       "6               NaN              NaN\n",
       "7               NaN              NaN\n",
       "8               NaN              NaN\n",
       "9               NaN              NaN\n",
       "10              NaN              NaN"
      ]
     },
     "execution_count": 4,
     "metadata": {},
     "output_type": "execute_result"
    }
   ],
   "source": [
    "df.loc[0:10, 'salary_year_avg':'salary_hour_avg']"
   ]
  },
  {
   "cell_type": "code",
   "execution_count": 10,
   "id": "d812bf1e",
   "metadata": {},
   "outputs": [],
   "source": [
    "median_salary_year = df['salary_year_avg'].median() # Calculates the median DOES NOT COUNT NAN VALUES BY DEFAULT!!"
   ]
  },
  {
   "cell_type": "code",
   "execution_count": 11,
   "id": "b06fb970",
   "metadata": {},
   "outputs": [],
   "source": [
    "median_salary_hour = df['salary_hour_avg'].median()"
   ]
  },
  {
   "cell_type": "code",
   "execution_count": null,
   "id": "d450f657",
   "metadata": {},
   "outputs": [],
   "source": [
    "# It is good practice to create a NEW DF whenever you make modifications on it\n",
    "df_filled = df\n"
   ]
  },
  {
   "cell_type": "code",
   "execution_count": 12,
   "id": "36bcb863",
   "metadata": {},
   "outputs": [],
   "source": [
    "df_filled['salary_year_avg'] = df_filled['salary_year_avg'].fillna(median_salary_year)"
   ]
  },
  {
   "cell_type": "code",
   "execution_count": 14,
   "id": "5e02712f",
   "metadata": {},
   "outputs": [
    {
     "data": {
      "text/plain": [
       "0    115000.0\n",
       "1    115000.0\n",
       "2    115000.0\n",
       "3    115000.0\n",
       "4    115000.0\n",
       "5    115000.0\n",
       "6    115000.0\n",
       "7    115000.0\n",
       "8    115000.0\n",
       "9    115000.0\n",
       "Name: salary_year_avg, dtype: float64"
      ]
     },
     "execution_count": 14,
     "metadata": {},
     "output_type": "execute_result"
    }
   ],
   "source": [
    "df_filled['salary_year_avg'].head(10)"
   ]
  },
  {
   "cell_type": "code",
   "execution_count": 15,
   "id": "a6483e3f",
   "metadata": {},
   "outputs": [
    {
     "data": {
      "text/plain": [
       "0    45.98\n",
       "1    45.98\n",
       "2    45.98\n",
       "3    45.98\n",
       "4    45.98\n",
       "5    45.98\n",
       "6    45.98\n",
       "7    45.98\n",
       "8    45.98\n",
       "9    45.98\n",
       "Name: salary_hour_avg, dtype: float64"
      ]
     },
     "execution_count": 15,
     "metadata": {},
     "output_type": "execute_result"
    }
   ],
   "source": [
    "df_filled['salary_hour_avg'] = df_filled['salary_hour_avg'].fillna(median_salary_hour)\n",
    "df_filled['salary_hour_avg'].head(10)"
   ]
  },
  {
   "cell_type": "code",
   "execution_count": 16,
   "id": "f282eec4",
   "metadata": {},
   "outputs": [],
   "source": [
    "df_unique = df_filled"
   ]
  },
  {
   "cell_type": "code",
   "execution_count": 18,
   "id": "93f8cffe",
   "metadata": {},
   "outputs": [
    {
     "name": "stdout",
     "output_type": "stream",
     "text": [
      "Length of original df:           785741\n",
      "Length of drop duplicates df:    785640\n",
      "Rows Dropped:                    101\n"
     ]
    }
   ],
   "source": [
    "df_unique = df_unique.drop_duplicates()\n",
    "\n",
    "print('Length of original df:          ', len(df_filled))\n",
    "print('Length of drop duplicates df:   ', len(df_unique))\n",
    "print('Rows Dropped:                   ', len(df_filled)-len(df_unique))"
   ]
  },
  {
   "cell_type": "code",
   "execution_count": 19,
   "id": "451a6c2d",
   "metadata": {},
   "outputs": [
    {
     "name": "stdout",
     "output_type": "stream",
     "text": [
      "Length of original df:           785741\n",
      "Length of drop duplicates df:    508042\n",
      "Rows Dropped:                    277699\n"
     ]
    }
   ],
   "source": [
    "df_unique = df_unique.drop_duplicates(subset=['job_title','company_name'])\n",
    "\n",
    "print('Length of original df:          ', len(df_filled))\n",
    "print('Length of drop duplicates df:   ', len(df_unique))\n",
    "print('Rows Dropped:                   ', len(df_filled)-len(df_unique))"
   ]
  },
  {
   "cell_type": "code",
   "execution_count": 21,
   "id": "4dd80148",
   "metadata": {},
   "outputs": [
    {
     "data": {
      "text/plain": [
       "0         115000.0\n",
       "1         115000.0\n",
       "2         115000.0\n",
       "3         115000.0\n",
       "4         115000.0\n",
       "            ...   \n",
       "785736    115000.0\n",
       "785737    115000.0\n",
       "785738    115000.0\n",
       "785739    115000.0\n",
       "785740    115000.0\n",
       "Name: salary_year_avg, Length: 785741, dtype: float64"
      ]
     },
     "execution_count": 21,
     "metadata": {},
     "output_type": "execute_result"
    }
   ],
   "source": [
    "df_filled['salary_year_avg']"
   ]
  },
  {
   "cell_type": "code",
   "execution_count": 22,
   "id": "e781f96f",
   "metadata": {},
   "outputs": [
    {
     "data": {
      "text/plain": [
       "0         115000.0\n",
       "1         115000.0\n",
       "2         115000.0\n",
       "3         115000.0\n",
       "4         115000.0\n",
       "            ...   \n",
       "785736    115000.0\n",
       "785737    115000.0\n",
       "785738    115000.0\n",
       "785739    115000.0\n",
       "785740    115000.0\n",
       "Name: salary_year_avg, Length: 785741, dtype: float64"
      ]
     },
     "execution_count": 22,
     "metadata": {},
     "output_type": "execute_result"
    }
   ],
   "source": [
    "df['salary_year_avg']"
   ]
  },
  {
   "cell_type": "code",
   "execution_count": null,
   "id": "b60eace9",
   "metadata": {},
   "outputs": [],
   "source": []
  }
 ],
 "metadata": {
  "kernelspec": {
   "display_name": "python_course",
   "language": "python",
   "name": "python3"
  },
  "language_info": {
   "codemirror_mode": {
    "name": "ipython",
    "version": 3
   },
   "file_extension": ".py",
   "mimetype": "text/x-python",
   "name": "python",
   "nbconvert_exporter": "python",
   "pygments_lexer": "ipython3",
   "version": "3.11.13"
  }
 },
 "nbformat": 4,
 "nbformat_minor": 5
}
